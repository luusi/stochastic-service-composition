{
 "cells": [
  {
   "cell_type": "markdown",
   "source": [
    "# Services\n",
    "\n",
    "A service is a deterministic finite automaton.\n",
    "Follow some examples on how to build services\n",
    "using the library APIs.\n",
    "\n",
    "We took the examples from:\n",
    "\n",
    "    De Giacomo, G., Mecella, M., & Patrizi, F. (2014).\n",
    "    Automated service composition based on behaviors: The roman model.\n",
    "    In Web services foundations (pp. 189-214). Springer, New York, NY."
   ],
   "metadata": {
    "collapsed": false
   }
  },
  {
   "cell_type": "markdown",
   "source": [
    "## Examples"
   ],
   "metadata": {
    "collapsed": false,
    "pycharm": {
     "name": "#%% md\n"
    }
   }
  },
  {
   "cell_type": "code",
   "execution_count": 1,
   "metadata": {
    "collapsed": true
   },
   "outputs": [],
   "source": [
    "from examples.notebooks.utils import render_service\n",
    "from stochastic_service_composition.services import Service, build_service_from_transitions\n",
    "\n",
    "def bathroom_heating_device() -> Service:\n",
    "    \"\"\"Build the bathroom heating device.\"\"\"\n",
    "    transitions = {\n",
    "        \"air_cold\": {\n",
    "            \"cold_air_on\": \"air_cold\",\n",
    "            \"air_off\": \"air_off\",\n",
    "        },\n",
    "        \"air_off\": {\n",
    "            \"cold_air_on\": \"air_cold\",\n",
    "            \"hot_air_on\": \"air_hot\",\n",
    "        },\n",
    "        \"air_hot\": {\"hot_air_on\": \"air_hot\", \"air_off\": \"air_off\"},\n",
    "    }\n",
    "    final_states = {\"air_off\"}\n",
    "    initial_state = \"air_off\"\n",
    "    return build_service_from_transitions(transitions, initial_state, final_states)  # type: ignore\n",
    "\n",
    "def bathtub_device() -> Service:\n",
    "    \"\"\"Build the bathtub device.\"\"\"\n",
    "    transitions = {\n",
    "        \"empty\": {\n",
    "            \"fill_up_buthub\": \"filled\",\n",
    "        },\n",
    "        \"filled\": {\"empty_buthub\": \"empty\"},\n",
    "    }\n",
    "    final_states = {\"empty\"}\n",
    "    initial_state = \"empty\"\n",
    "    return build_service_from_transitions(transitions, initial_state, final_states)  # type: ignore\n",
    "\n",
    "def door_device() -> Service:\n",
    "    \"\"\"Build the door device.\"\"\"\n",
    "    transitions = {\n",
    "        \"unique\": {\n",
    "            \"open\": \"unique\",\n",
    "            \"close\": \"unique\",\n",
    "        },\n",
    "    }\n",
    "    final_states = {\"unique\"}\n",
    "    initial_state = \"unique\"\n",
    "    return build_service_from_transitions(transitions, initial_state, final_states)  # type: ignore\n",
    "\n",
    "def kitchen_exhaust_fan_device() -> Service:\n",
    "    \"\"\"Build the kitchen exhaust fan device.\"\"\"\n",
    "    transitions = {\n",
    "        \"unique\": {\n",
    "            \"vent_kitchen\": \"unique\",\n",
    "        },\n",
    "    }\n",
    "    final_states = {\"unique\"}\n",
    "    initial_state = \"unique\"\n",
    "    return build_service_from_transitions(transitions, initial_state, final_states)  # type: ignore"
   ]
  },
  {
   "cell_type": "markdown",
   "source": [
    "- The bathroom heating device:"
   ],
   "metadata": {
    "collapsed": false,
    "pycharm": {
     "name": "#%% md\n"
    }
   }
  },
  {
   "cell_type": "code",
   "execution_count": 2,
   "outputs": [
    {
     "data": {
      "text/plain": "<IPython.core.display.HTML object>",
      "text/html": "<div style=\"display: block; margin-left: auto; margin-right: auto; width: 50%;white-space: nowrap\"><svg xmlns=\"http://www.w3.org/2000/svg\" xmlns:xlink=\"http://www.w3.org/1999/xlink\" width=\"403pt\" height=\"272pt\" viewBox=\"0.00 0.00 402.98 271.69\">\n<g id=\"graph0\" class=\"graph\" transform=\"scale(1 1) rotate(0) translate(4 267.69)\">\n<title>%3</title>\n<polygon fill=\"white\" stroke=\"transparent\" points=\"-4,4 -4,-267.69 398.98,-267.69 398.98,4 -4,4\"/>\n<!-- fake -->\n<g id=\"node1\" class=\"node\">\n<title>fake</title>\n</g>\n<!-- air_off -->\n<g id=\"node4\" class=\"node\">\n<title>air_off</title>\n<ellipse fill=\"none\" stroke=\"black\" cx=\"141.74\" cy=\"-123.8\" rx=\"39.78\" ry=\"39.78\"/>\n<ellipse fill=\"none\" stroke=\"black\" cx=\"141.74\" cy=\"-123.8\" rx=\"43.79\" ry=\"43.79\"/>\n<text text-anchor=\"middle\" x=\"141.74\" y=\"-120.1\" font-family=\"Times,serif\" font-size=\"14.00\">air_off</text>\n</g>\n<!-- fake&#45;&gt;air_off -->\n<g id=\"edge1\" class=\"edge\">\n<title>fake-&gt;air_off</title>\n<path fill=\"none\" stroke=\"black\" stroke-width=\"2\" d=\"M61.1,-123.8C69.36,-123.8 78.59,-123.8 87.77,-123.8\"/>\n<polygon fill=\"black\" stroke=\"black\" stroke-width=\"2\" points=\"88.05,-127.3 98.05,-123.8 88.05,-120.3 88.05,-127.3\"/>\n</g>\n<!-- air_hot -->\n<g id=\"node2\" class=\"node\">\n<title>air_hot</title>\n<ellipse fill=\"none\" stroke=\"black\" cx=\"348.18\" cy=\"-187.8\" rx=\"42.79\" ry=\"42.79\"/>\n<text text-anchor=\"middle\" x=\"348.18\" y=\"-184.1\" font-family=\"Times,serif\" font-size=\"14.00\">air_hot</text>\n</g>\n<!-- air_hot&#45;&gt;air_hot -->\n<g id=\"edge6\" class=\"edge\">\n<title>air_hot-&gt;air_hot</title>\n<path fill=\"none\" stroke=\"black\" d=\"M328.68,-226.15C328.79,-238.7 335.28,-248.69 348.18,-248.69 357.25,-248.69 363.16,-243.75 365.9,-236.46\"/>\n<polygon fill=\"black\" stroke=\"black\" points=\"369.43,-236.6 367.68,-226.15 362.53,-235.41 369.43,-236.6\"/>\n<text text-anchor=\"middle\" x=\"348.18\" y=\"-252.49\" font-family=\"Times,serif\" font-size=\"14.00\">hot_air_on</text>\n</g>\n<!-- air_hot&#45;&gt;air_off -->\n<g id=\"edge7\" class=\"edge\">\n<title>air_hot-&gt;air_off</title>\n<path fill=\"none\" stroke=\"black\" d=\"M313.98,-161.37C304.56,-155.03 293.97,-148.91 283.39,-144.8 255.53,-133.97 222.58,-128.69 195.57,-126.13\"/>\n<polygon fill=\"black\" stroke=\"black\" points=\"195.8,-122.63 185.54,-125.27 195.2,-129.61 195.8,-122.63\"/>\n<text text-anchor=\"middle\" x=\"243.39\" y=\"-148.6\" font-family=\"Times,serif\" font-size=\"14.00\">air_off</text>\n</g>\n<!-- air_cold -->\n<g id=\"node3\" class=\"node\">\n<title>air_cold</title>\n<ellipse fill=\"none\" stroke=\"black\" cx=\"348.18\" cy=\"-46.8\" rx=\"46.59\" ry=\"46.59\"/>\n<text text-anchor=\"middle\" x=\"348.18\" y=\"-43.1\" font-family=\"Times,serif\" font-size=\"14.00\">air_cold</text>\n</g>\n<!-- air_cold&#45;&gt;air_cold -->\n<g id=\"edge2\" class=\"edge\">\n<title>air_cold-&gt;air_cold</title>\n<path fill=\"none\" stroke=\"black\" d=\"M328.74,-89.48C329.41,-101.94 335.89,-111.59 348.18,-111.59 356.82,-111.59 362.59,-106.82 365.49,-99.66\"/>\n<polygon fill=\"black\" stroke=\"black\" points=\"369,-99.99 367.63,-89.48 362.15,-98.55 369,-99.99\"/>\n<text text-anchor=\"middle\" x=\"348.18\" y=\"-115.39\" font-family=\"Times,serif\" font-size=\"14.00\">cold_air_on</text>\n</g>\n<!-- air_cold&#45;&gt;air_off -->\n<g id=\"edge3\" class=\"edge\">\n<title>air_cold-&gt;air_off</title>\n<path fill=\"none\" stroke=\"black\" d=\"M301.12,-46.64C271.87,-48.16 233.9,-53.23 203.39,-67.8 194.65,-71.97 186.3,-77.84 178.74,-84.22\"/>\n<polygon fill=\"black\" stroke=\"black\" points=\"175.97,-82 170.87,-91.29 180.65,-87.21 175.97,-82\"/>\n<text text-anchor=\"middle\" x=\"243.39\" y=\"-71.6\" font-family=\"Times,serif\" font-size=\"14.00\">air_off</text>\n</g>\n<!-- air_off&#45;&gt;air_hot -->\n<g id=\"edge5\" class=\"edge\">\n<title>air_off-&gt;air_hot</title>\n<path fill=\"none\" stroke=\"black\" d=\"M176.97,-149.91C185.26,-155.21 194.35,-160.25 203.39,-163.8 232.55,-175.25 267.14,-181.24 295.08,-184.37\"/>\n<polygon fill=\"black\" stroke=\"black\" points=\"294.74,-187.85 305.05,-185.4 295.46,-180.89 294.74,-187.85\"/>\n<text text-anchor=\"middle\" x=\"243.39\" y=\"-185.6\" font-family=\"Times,serif\" font-size=\"14.00\">hot_air_on</text>\n</g>\n<!-- air_off&#45;&gt;air_cold -->\n<g id=\"edge4\" class=\"edge\">\n<title>air_off-&gt;air_cold</title>\n<path fill=\"none\" stroke=\"black\" d=\"M184.02,-112.89C218.72,-103.52 265.46,-90.35 283.39,-82.8 288.44,-80.67 293.6,-78.23 298.69,-75.66\"/>\n<polygon fill=\"black\" stroke=\"black\" points=\"300.51,-78.66 307.74,-70.91 297.26,-72.46 300.51,-78.66\"/>\n<text text-anchor=\"middle\" x=\"243.39\" y=\"-111.6\" font-family=\"Times,serif\" font-size=\"14.00\">cold_air_on</text>\n</g>\n</g>\n</svg></div>"
     },
     "metadata": {},
     "output_type": "display_data"
    }
   ],
   "source": [
    "render_service(bathroom_heating_device())"
   ],
   "metadata": {
    "collapsed": false,
    "pycharm": {
     "name": "#%%\n"
    }
   }
  },
  {
   "cell_type": "markdown",
   "source": [
    "- The bathtub device:"
   ],
   "metadata": {
    "collapsed": false
   }
  },
  {
   "cell_type": "code",
   "execution_count": 3,
   "outputs": [
    {
     "data": {
      "text/plain": "<IPython.core.display.HTML object>",
      "text/html": "<div style=\"display: block; margin-left: auto; margin-right: auto; width: 50%;white-space: nowrap\"><svg xmlns=\"http://www.w3.org/2000/svg\" xmlns:xlink=\"http://www.w3.org/1999/xlink\" width=\"401pt\" height=\"97pt\" viewBox=\"0.00 0.00 401.28 96.59\">\n<g id=\"graph0\" class=\"graph\" transform=\"scale(1 1) rotate(0) translate(4 92.59)\">\n<title>%3</title>\n<polygon fill=\"white\" stroke=\"transparent\" points=\"-4,4 -4,-92.59 397.28,-92.59 397.28,4 -4,4\"/>\n<!-- fake -->\n<g id=\"node1\" class=\"node\">\n<title>fake</title>\n</g>\n<!-- empty -->\n<g id=\"node3\" class=\"node\">\n<title>empty</title>\n<ellipse fill=\"none\" stroke=\"black\" cx=\"142.39\" cy=\"-44.3\" rx=\"40.11\" ry=\"40.11\"/>\n<ellipse fill=\"none\" stroke=\"black\" cx=\"142.39\" cy=\"-44.3\" rx=\"44.09\" ry=\"44.09\"/>\n<text text-anchor=\"middle\" x=\"142.39\" y=\"-40.6\" font-family=\"Times,serif\" font-size=\"14.00\">empty</text>\n</g>\n<!-- fake&#45;&gt;empty -->\n<g id=\"edge1\" class=\"edge\">\n<title>fake-&gt;empty</title>\n<path fill=\"none\" stroke=\"black\" stroke-width=\"2\" d=\"M61.27,-44.3C69.49,-44.3 78.67,-44.3 87.8,-44.3\"/>\n<polygon fill=\"black\" stroke=\"black\" stroke-width=\"2\" points=\"88.03,-47.8 98.03,-44.3 88.03,-40.8 88.03,-47.8\"/>\n</g>\n<!-- filled -->\n<g id=\"node2\" class=\"node\">\n<title>filled</title>\n<ellipse fill=\"none\" stroke=\"black\" cx=\"359.48\" cy=\"-44.3\" rx=\"33.6\" ry=\"33.6\"/>\n<text text-anchor=\"middle\" x=\"359.48\" y=\"-40.6\" font-family=\"Times,serif\" font-size=\"14.00\">filled</text>\n</g>\n<!-- filled&#45;&gt;empty -->\n<g id=\"edge3\" class=\"edge\">\n<title>filled-&gt;empty</title>\n<path fill=\"none\" stroke=\"black\" d=\"M328.36,-31.02C321.68,-28.65 314.54,-26.54 307.69,-25.3 262.64,-17.15 249.95,-18.44 204.69,-25.3 201.28,-25.81 197.8,-26.48 194.32,-27.26\"/>\n<polygon fill=\"black\" stroke=\"black\" points=\"193.4,-23.88 184.54,-29.7 195.09,-30.67 193.4,-23.88\"/>\n<text text-anchor=\"middle\" x=\"256.19\" y=\"-29.1\" font-family=\"Times,serif\" font-size=\"14.00\">empty_buthub</text>\n</g>\n<!-- empty&#45;&gt;filled -->\n<g id=\"edge2\" class=\"edge\">\n<title>empty-&gt;filled</title>\n<path fill=\"none\" stroke=\"black\" d=\"M186.92,-44.3C224.4,-44.3 278.18,-44.3 315.5,-44.3\"/>\n<polygon fill=\"black\" stroke=\"black\" points=\"315.56,-47.8 325.56,-44.3 315.56,-40.8 315.56,-47.8\"/>\n<text text-anchor=\"middle\" x=\"256.19\" y=\"-48.1\" font-family=\"Times,serif\" font-size=\"14.00\">fill_up_buthub</text>\n</g>\n</g>\n</svg></div>"
     },
     "metadata": {},
     "output_type": "display_data"
    }
   ],
   "source": [
    "render_service(bathtub_device())\n"
   ],
   "metadata": {
    "collapsed": false,
    "pycharm": {
     "name": "#%%\n"
    }
   }
  },
  {
   "cell_type": "markdown",
   "source": [
    "- The door device:"
   ],
   "metadata": {
    "collapsed": false
   }
  },
  {
   "cell_type": "code",
   "execution_count": 4,
   "outputs": [
    {
     "data": {
      "text/plain": "<IPython.core.display.HTML object>",
      "text/html": "<div style=\"display: block; margin-left: auto; margin-right: auto; width: 50%;white-space: nowrap\"><svg xmlns=\"http://www.w3.org/2000/svg\" xmlns:xlink=\"http://www.w3.org/1999/xlink\" width=\"199pt\" height=\"166pt\" viewBox=\"0.00 0.00 198.59 166.49\">\n<g id=\"graph0\" class=\"graph\" transform=\"scale(1 1) rotate(0) translate(4 162.49)\">\n<title>%3</title>\n<polygon fill=\"white\" stroke=\"transparent\" points=\"-4,4 -4,-162.49 194.59,-162.49 194.59,4 -4,4\"/>\n<!-- fake -->\n<g id=\"node1\" class=\"node\">\n<title>fake</title>\n</g>\n<!-- unique -->\n<g id=\"node2\" class=\"node\">\n<title>unique</title>\n<ellipse fill=\"none\" stroke=\"black\" cx=\"144.34\" cy=\"-46.25\" rx=\"42.47\" ry=\"42.47\"/>\n<ellipse fill=\"none\" stroke=\"black\" cx=\"144.34\" cy=\"-46.25\" rx=\"46.49\" ry=\"46.49\"/>\n<text text-anchor=\"middle\" x=\"144.34\" y=\"-42.55\" font-family=\"Times,serif\" font-size=\"14.00\">unique</text>\n</g>\n<!-- fake&#45;&gt;unique -->\n<g id=\"edge1\" class=\"edge\">\n<title>fake-&gt;unique</title>\n<path fill=\"none\" stroke=\"black\" stroke-width=\"2\" d=\"M61.21,-46.25C69.39,-46.25 78.54,-46.25 87.67,-46.25\"/>\n<polygon fill=\"black\" stroke=\"black\" stroke-width=\"2\" points=\"87.94,-49.75 97.94,-46.25 87.94,-42.75 87.94,-49.75\"/>\n</g>\n<!-- unique&#45;&gt;unique -->\n<g id=\"edge2\" class=\"edge\">\n<title>unique-&gt;unique</title>\n<path fill=\"none\" stroke=\"black\" d=\"M138.47,-92.16C138.98,-102.73 140.93,-110.49 144.34,-110.49 146.52,-110.49 148.11,-107.31 149.1,-102.24\"/>\n<polygon fill=\"black\" stroke=\"black\" points=\"152.6,-102.48 150.21,-92.16 145.64,-101.72 152.6,-102.48\"/>\n<text text-anchor=\"middle\" x=\"144.34\" y=\"-114.29\" font-family=\"Times,serif\" font-size=\"14.00\">open</text>\n</g>\n<!-- unique&#45;&gt;unique -->\n<g id=\"edge3\" class=\"edge\">\n<title>unique-&gt;unique</title>\n<path fill=\"none\" stroke=\"black\" d=\"M132.53,-91.08C131.4,-111.14 135.34,-128.49 144.34,-128.49 151.79,-128.49 155.78,-116.59 156.28,-101.11\"/>\n<polygon fill=\"black\" stroke=\"black\" points=\"159.78,-101.04 156.15,-91.08 152.78,-101.13 159.78,-101.04\"/>\n<text text-anchor=\"middle\" x=\"144.34\" y=\"-132.29\" font-family=\"Times,serif\" font-size=\"14.00\">close</text>\n</g>\n</g>\n</svg></div>"
     },
     "metadata": {},
     "output_type": "display_data"
    }
   ],
   "source": [
    "render_service(door_device())\n"
   ],
   "metadata": {
    "collapsed": false,
    "pycharm": {
     "name": "#%%\n"
    }
   }
  },
  {
   "cell_type": "markdown",
   "source": [
    "- The Kitchen exhaust fan device:"
   ],
   "metadata": {
    "collapsed": false
   }
  },
  {
   "cell_type": "code",
   "execution_count": 5,
   "outputs": [
    {
     "data": {
      "text/plain": "<IPython.core.display.HTML object>",
      "text/html": "<div style=\"display: block; margin-left: auto; margin-right: auto; width: 50%;white-space: nowrap\"><svg xmlns=\"http://www.w3.org/2000/svg\" xmlns:xlink=\"http://www.w3.org/1999/xlink\" width=\"199pt\" height=\"133pt\" viewBox=\"0.00 0.00 198.59 133.49\">\n<g id=\"graph0\" class=\"graph\" transform=\"scale(1 1) rotate(0) translate(4 129.49)\">\n<title>%3</title>\n<polygon fill=\"white\" stroke=\"transparent\" points=\"-4,4 -4,-129.49 194.59,-129.49 194.59,4 -4,4\"/>\n<!-- fake -->\n<g id=\"node1\" class=\"node\">\n<title>fake</title>\n</g>\n<!-- unique -->\n<g id=\"node2\" class=\"node\">\n<title>unique</title>\n<ellipse fill=\"none\" stroke=\"black\" cx=\"144.34\" cy=\"-46.25\" rx=\"42.47\" ry=\"42.47\"/>\n<ellipse fill=\"none\" stroke=\"black\" cx=\"144.34\" cy=\"-46.25\" rx=\"46.49\" ry=\"46.49\"/>\n<text text-anchor=\"middle\" x=\"144.34\" y=\"-42.55\" font-family=\"Times,serif\" font-size=\"14.00\">unique</text>\n</g>\n<!-- fake&#45;&gt;unique -->\n<g id=\"edge1\" class=\"edge\">\n<title>fake-&gt;unique</title>\n<path fill=\"none\" stroke=\"black\" stroke-width=\"2\" d=\"M61.21,-46.25C69.39,-46.25 78.54,-46.25 87.67,-46.25\"/>\n<polygon fill=\"black\" stroke=\"black\" stroke-width=\"2\" points=\"87.94,-49.75 97.94,-46.25 87.94,-42.75 87.94,-49.75\"/>\n</g>\n<!-- unique&#45;&gt;unique -->\n<g id=\"edge2\" class=\"edge\">\n<title>unique-&gt;unique</title>\n<path fill=\"none\" stroke=\"black\" d=\"M132.51,-90.98C133.33,-102.15 137.28,-110.49 144.34,-110.49 149.09,-110.49 152.42,-106.73 154.35,-100.87\"/>\n<polygon fill=\"black\" stroke=\"black\" points=\"157.81,-101.45 156.18,-90.98 150.92,-100.18 157.81,-101.45\"/>\n<text text-anchor=\"middle\" x=\"144.34\" y=\"-114.29\" font-family=\"Times,serif\" font-size=\"14.00\">vent_kitchen</text>\n</g>\n</g>\n</svg></div>"
     },
     "metadata": {},
     "output_type": "display_data"
    }
   ],
   "source": [
    "render_service(kitchen_exhaust_fan_device())\n"
   ],
   "metadata": {
    "collapsed": false,
    "pycharm": {
     "name": "#%%\n"
    }
   }
  },
  {
   "cell_type": "code",
   "execution_count": 5,
   "outputs": [],
   "source": [],
   "metadata": {
    "collapsed": false,
    "pycharm": {
     "name": "#%%\n"
    }
   }
  }
 ],
 "metadata": {
  "kernelspec": {
   "display_name": "Python 3",
   "language": "python",
   "name": "python3"
  },
  "language_info": {
   "codemirror_mode": {
    "name": "ipython",
    "version": 2
   },
   "file_extension": ".py",
   "mimetype": "text/x-python",
   "name": "python",
   "nbconvert_exporter": "python",
   "pygments_lexer": "ipython2",
   "version": "2.7.6"
  }
 },
 "nbformat": 4,
 "nbformat_minor": 0
}