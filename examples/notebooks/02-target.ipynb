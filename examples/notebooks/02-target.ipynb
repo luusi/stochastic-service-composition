{
 "cells": [
  {
   "cell_type": "markdown",
   "metadata": {},
   "source": [
    "# Target\n",
    "\n",
    "We are interested in the service composition problem in which\n",
    "the target service is stochastic.\n",
    "\n",
    "Brafman, R. I., De Giacomo, G., Mecella, M., & Sardina, S. (2017, November).\n",
    " Service Composition in Stochastic Settings.\n",
    " In Conference of the Italian Association for Artificial Intelligence (pp. 159-171).\n",
    " Springer, Cham."
   ]
  },
  {
   "cell_type": "markdown",
   "metadata": {
    "pycharm": {
     "name": "#%% md\n"
    }
   },
   "source": [
    "## Examples"
   ]
  },
  {
   "cell_type": "code",
   "execution_count": 1,
   "metadata": {
    "pycharm": {
     "name": "#%%\n"
    }
   },
   "outputs": [],
   "source": [
    "from examples.notebooks.utils import render_target\n",
    "from stochastic_service_composition.target import build_target_from_transitions\n",
    "\n",
    "\n",
    "def target_service():\n",
    "    \"\"\"Build the target service.\"\"\"\n",
    "    transition_function = {\n",
    "        \"t0\": {\n",
    "            \"hot_air_on\": (\"t1\", 0.6, 5),\n",
    "            \"move_to_kitchen\": (\"t8\", 0.2, 3),\n",
    "            \"open_door_kitchen\": (\"t7\", 0.2, 2),\n",
    "        },\n",
    "        \"t1\": {\"fill_up_bathtub\": (\"t2\", 0.7, 4), \"hot_air_on\": (\"t1\", 0.3, 2)},\n",
    "        \"t2\": {\n",
    "            \"move_to_bathroom\": (\"t3\", 0.5, 3),\n",
    "            \"open_door_bathroom\": (\"t2\", 0.5, 2),\n",
    "        },\n",
    "        \"t3\": {\"move_to_bathroom\": (\"t3\", 0.2, 4), \"wash\": (\"t4\", 0.8, 8)},\n",
    "        \"t4\": {\"move_to_bedroom\": (\"t5\", 1.0, 10)},\n",
    "        \"t5\": {\"empty_bathtub\": (\"t6\", 0.9, 7), \"move_to_bedroom\": (\"t5\", 0.1, 3)},\n",
    "        \"t6\": {\"air_off\": (\"t7\", 1.0, 10)},\n",
    "        \"t7\": {\"move_to_kitchen\": (\"t8\", 0.5, 5), \"open_door_kitchen\": (\"t7\", 0.5, 4)},\n",
    "        \"t8\": {\n",
    "            \"cook_eggs\": (\"t9\", 0.6, 7),\n",
    "            \"move_to_kitchen\": (\"t8\", 0.2, 5),\n",
    "            \"prepare_tea\": (\"t0\", 0.2, 2),\n",
    "        },\n",
    "        \"t9\": {\"no_op\": (\"t0\", 0.8, 1), \"vent_kitchen\": (\"t9\", 0.2, 1)},\n",
    "    }\n",
    "\n",
    "    initial_state = \"t0\"\n",
    "    final_states = {\"t0\"}\n",
    "\n",
    "    return build_target_from_transitions(\n",
    "        transition_function, initial_state, final_states\n",
    "    )\n",
    "\n",
    "target = target_service()\n"
   ]
  },
  {
   "cell_type": "code",
   "execution_count": 2,
   "outputs": [
    {
     "data": {
      "text/plain": "<IPython.core.display.HTML object>",
      "text/html": "<div style=\"display: block; margin-left: auto; margin-right: auto; width: 50%;white-space: nowrap\"><svg xmlns=\"http://www.w3.org/2000/svg\" xmlns:xlink=\"http://www.w3.org/1999/xlink\" width=\"2326pt\" height=\"256pt\" viewBox=\"0.00 0.00 2325.66 255.80\">\n<g id=\"graph0\" class=\"graph\" transform=\"scale(1 1) rotate(0) translate(4 251.8)\">\n<title>%3</title>\n<polygon fill=\"white\" stroke=\"transparent\" points=\"-4,4 -4,-251.8 2321.66,-251.8 2321.66,4 -4,4\"/>\n<!-- fake -->\n<g id=\"node1\" class=\"node\">\n<title>fake</title>\n</g>\n<!-- t0 -->\n<g id=\"node10\" class=\"node\">\n<title>t0</title>\n<ellipse fill=\"none\" stroke=\"black\" cx=\"122.89\" cy=\"-101.8\" rx=\"20.63\" ry=\"20.63\"/>\n<ellipse fill=\"none\" stroke=\"black\" cx=\"122.89\" cy=\"-101.8\" rx=\"24.6\" ry=\"24.6\"/>\n<text text-anchor=\"middle\" x=\"122.89\" y=\"-98.1\" font-family=\"Times,serif\" font-size=\"14.00\">t0</text>\n</g>\n<!-- fake&#45;&gt;t0 -->\n<g id=\"edge1\" class=\"edge\">\n<title>fake-&gt;t0</title>\n<path fill=\"none\" stroke=\"black\" stroke-width=\"2\" d=\"M61.13,-101.8C69.62,-101.8 78.94,-101.8 87.68,-101.8\"/>\n<polygon fill=\"black\" stroke=\"black\" stroke-width=\"2\" points=\"87.96,-105.3 97.96,-101.8 87.96,-98.3 87.96,-105.3\"/>\n</g>\n<!-- t4 -->\n<g id=\"node2\" class=\"node\">\n<title>t4</title>\n<ellipse fill=\"none\" stroke=\"black\" cx=\"1108.48\" cy=\"-155.8\" rx=\"20.6\" ry=\"20.6\"/>\n<text text-anchor=\"middle\" x=\"1108.48\" y=\"-152.1\" font-family=\"Times,serif\" font-size=\"14.00\">t4</text>\n</g>\n<!-- t5 -->\n<g id=\"node6\" class=\"node\">\n<title>t5</title>\n<ellipse fill=\"none\" stroke=\"black\" cx=\"1424.28\" cy=\"-150.8\" rx=\"20.6\" ry=\"20.6\"/>\n<text text-anchor=\"middle\" x=\"1424.28\" y=\"-147.1\" font-family=\"Times,serif\" font-size=\"14.00\">t5</text>\n</g>\n<!-- t4&#45;&gt;t5 -->\n<g id=\"edge11\" class=\"edge\">\n<title>t4-&gt;t5</title>\n<path fill=\"none\" stroke=\"black\" d=\"M1129.59,-155.48C1183.17,-154.62 1329.61,-152.29 1393.17,-151.28\"/>\n<polygon fill=\"black\" stroke=\"black\" points=\"1393.4,-154.77 1403.34,-151.12 1393.28,-147.78 1393.4,-154.77\"/>\n<text text-anchor=\"middle\" x=\"1295.98\" y=\"-157.6\" font-family=\"Times,serif\" font-size=\"14.00\">move_to_bedroom,10,1.0</text>\n</g>\n<!-- t1 -->\n<g id=\"node3\" class=\"node\">\n<title>t1</title>\n<ellipse fill=\"none\" stroke=\"black\" cx=\"319.49\" cy=\"-150.8\" rx=\"20.6\" ry=\"20.6\"/>\n<text text-anchor=\"middle\" x=\"319.49\" y=\"-147.1\" font-family=\"Times,serif\" font-size=\"14.00\">t1</text>\n</g>\n<!-- t1&#45;&gt;t1 -->\n<g id=\"edge6\" class=\"edge\">\n<title>t1-&gt;t1</title>\n<path fill=\"none\" stroke=\"black\" d=\"M304.24,-165.12C297.72,-177.09 302.8,-189.6 319.49,-189.6 331.61,-189.6 337.61,-183 337.49,-174.79\"/>\n<polygon fill=\"black\" stroke=\"black\" points=\"340.84,-173.79 334.74,-165.12 334.11,-175.7 340.84,-173.79\"/>\n<text text-anchor=\"middle\" x=\"319.49\" y=\"-193.4\" font-family=\"Times,serif\" font-size=\"14.00\">hot_air_on,2,0.3</text>\n</g>\n<!-- t2 -->\n<g id=\"node9\" class=\"node\">\n<title>t2</title>\n<ellipse fill=\"none\" stroke=\"black\" cx=\"544.09\" cy=\"-150.8\" rx=\"20.6\" ry=\"20.6\"/>\n<text text-anchor=\"middle\" x=\"544.09\" y=\"-147.1\" font-family=\"Times,serif\" font-size=\"14.00\">t2</text>\n</g>\n<!-- t1&#45;&gt;t2 -->\n<g id=\"edge5\" class=\"edge\">\n<title>t1-&gt;t2</title>\n<path fill=\"none\" stroke=\"black\" d=\"M340.64,-150.8C379.87,-150.8 466.72,-150.8 512.87,-150.8\"/>\n<polygon fill=\"black\" stroke=\"black\" points=\"513.14,-154.3 523.14,-150.8 513.14,-147.3 513.14,-154.3\"/>\n<text text-anchor=\"middle\" x=\"431.79\" y=\"-154.6\" font-family=\"Times,serif\" font-size=\"14.00\">fill_up_bathtub,4,0.7</text>\n</g>\n<!-- t8 -->\n<g id=\"node4\" class=\"node\">\n<title>t8</title>\n<ellipse fill=\"none\" stroke=\"black\" cx=\"2060.07\" cy=\"-77.8\" rx=\"20.6\" ry=\"20.6\"/>\n<text text-anchor=\"middle\" x=\"2060.07\" y=\"-74.1\" font-family=\"Times,serif\" font-size=\"14.00\">t8</text>\n</g>\n<!-- t8&#45;&gt;t8 -->\n<g id=\"edge18\" class=\"edge\">\n<title>t8-&gt;t8</title>\n<path fill=\"none\" stroke=\"black\" d=\"M2044.92,-92.53C2038.86,-104.37 2043.91,-116.6 2060.07,-116.6 2071.68,-116.6 2077.55,-110.28 2077.69,-102.33\"/>\n<polygon fill=\"black\" stroke=\"black\" points=\"2081.06,-101.37 2075.21,-92.53 2074.27,-103.08 2081.06,-101.37\"/>\n<text text-anchor=\"middle\" x=\"2060.07\" y=\"-120.4\" font-family=\"Times,serif\" font-size=\"14.00\">move_to_kitchen,5,0.2</text>\n</g>\n<!-- t9 -->\n<g id=\"node5\" class=\"node\">\n<title>t9</title>\n<ellipse fill=\"none\" stroke=\"black\" cx=\"2251.66\" cy=\"-20.8\" rx=\"20.6\" ry=\"20.6\"/>\n<text text-anchor=\"middle\" x=\"2251.66\" y=\"-17.1\" font-family=\"Times,serif\" font-size=\"14.00\">t9</text>\n</g>\n<!-- t8&#45;&gt;t9 -->\n<g id=\"edge17\" class=\"edge\">\n<title>t8-&gt;t9</title>\n<path fill=\"none\" stroke=\"black\" d=\"M2080.29,-72.02C2113.65,-61.99 2182.43,-41.31 2221.64,-29.53\"/>\n<polygon fill=\"black\" stroke=\"black\" points=\"2222.82,-32.82 2231.39,-26.59 2220.81,-26.12 2222.82,-32.82\"/>\n<text text-anchor=\"middle\" x=\"2155.87\" y=\"-69.6\" font-family=\"Times,serif\" font-size=\"14.00\">cook_eggs,7,0.6</text>\n</g>\n<!-- t8&#45;&gt;t0 -->\n<g id=\"edge19\" class=\"edge\">\n<title>t8-&gt;t0</title>\n<path fill=\"none\" stroke=\"black\" d=\"M2039.61,-74.04C1999.4,-66.63 1904.16,-50.8 1823.47,-50.8 318.49,-50.8 318.49,-50.8 318.49,-50.8 259.34,-50.8 193.28,-73.12 155.34,-88.23\"/>\n<polygon fill=\"black\" stroke=\"black\" points=\"153.82,-85.07 145.87,-92.09 156.45,-91.56 153.82,-85.07\"/>\n<text text-anchor=\"middle\" x=\"1108.48\" y=\"-54.6\" font-family=\"Times,serif\" font-size=\"14.00\">prepare_tea,2,0.2</text>\n</g>\n<!-- t9&#45;&gt;t9 -->\n<g id=\"edge21\" class=\"edge\">\n<title>t9-&gt;t9</title>\n<path fill=\"none\" stroke=\"black\" d=\"M2236.52,-35.53C2230.46,-47.37 2235.51,-59.6 2251.66,-59.6 2263.28,-59.6 2269.15,-53.28 2269.29,-45.33\"/>\n<polygon fill=\"black\" stroke=\"black\" points=\"2272.65,-44.37 2266.81,-35.53 2265.87,-46.08 2272.65,-44.37\"/>\n<text text-anchor=\"middle\" x=\"2251.66\" y=\"-63.4\" font-family=\"Times,serif\" font-size=\"14.00\">vent_kitchen,1,0.2</text>\n</g>\n<!-- t9&#45;&gt;t0 -->\n<g id=\"edge20\" class=\"edge\">\n<title>t9-&gt;t0</title>\n<path fill=\"none\" stroke=\"black\" d=\"M2230.78,-18.01C2196.31,-13.43 2123.17,-4.8 2061.07,-4.8 318.49,-4.8 318.49,-4.8 318.49,-4.8 247.69,-4.8 224.51,-10.41 165.69,-49.8 156.81,-55.74 148.91,-64.16 142.42,-72.49\"/>\n<polygon fill=\"black\" stroke=\"black\" points=\"139.5,-70.55 136.43,-80.69 145.15,-74.68 139.5,-70.55\"/>\n<text text-anchor=\"middle\" x=\"1295.98\" y=\"-8.6\" font-family=\"Times,serif\" font-size=\"14.00\">no_op,1,0.8</text>\n</g>\n<!-- t5&#45;&gt;t5 -->\n<g id=\"edge13\" class=\"edge\">\n<title>t5-&gt;t5</title>\n<path fill=\"none\" stroke=\"black\" d=\"M1407.59,-163.51C1398.37,-175.94 1403.93,-189.6 1424.28,-189.6 1439.54,-189.6 1446.48,-181.92 1445.11,-172.83\"/>\n<polygon fill=\"black\" stroke=\"black\" points=\"1448.23,-171.23 1440.97,-163.51 1441.83,-174.07 1448.23,-171.23\"/>\n<text text-anchor=\"middle\" x=\"1424.28\" y=\"-193.4\" font-family=\"Times,serif\" font-size=\"14.00\">move_to_bedroom,3,0.1</text>\n</g>\n<!-- t6 -->\n<g id=\"node11\" class=\"node\">\n<title>t6</title>\n<ellipse fill=\"none\" stroke=\"black\" cx=\"1650.87\" cy=\"-150.8\" rx=\"20.6\" ry=\"20.6\"/>\n<text text-anchor=\"middle\" x=\"1650.87\" y=\"-147.1\" font-family=\"Times,serif\" font-size=\"14.00\">t6</text>\n</g>\n<!-- t5&#45;&gt;t6 -->\n<g id=\"edge12\" class=\"edge\">\n<title>t5-&gt;t6</title>\n<path fill=\"none\" stroke=\"black\" d=\"M1445.21,-150.8C1484.75,-150.8 1573.31,-150.8 1619.91,-150.8\"/>\n<polygon fill=\"black\" stroke=\"black\" points=\"1619.99,-154.3 1629.99,-150.8 1619.99,-147.3 1619.99,-154.3\"/>\n<text text-anchor=\"middle\" x=\"1537.58\" y=\"-154.6\" font-family=\"Times,serif\" font-size=\"14.00\">empty_bathtub,7,0.9</text>\n</g>\n<!-- t7 -->\n<g id=\"node7\" class=\"node\">\n<title>t7</title>\n<ellipse fill=\"none\" stroke=\"black\" cx=\"1822.47\" cy=\"-150.8\" rx=\"20.6\" ry=\"20.6\"/>\n<text text-anchor=\"middle\" x=\"1822.47\" y=\"-147.1\" font-family=\"Times,serif\" font-size=\"14.00\">t7</text>\n</g>\n<!-- t7&#45;&gt;t8 -->\n<g id=\"edge15\" class=\"edge\">\n<title>t7-&gt;t8</title>\n<path fill=\"none\" stroke=\"black\" d=\"M1843.54,-151.14C1880.76,-150.97 1962.08,-146.73 2021.27,-115.8 2028.07,-112.24 2034.42,-107.03 2039.89,-101.6\"/>\n<polygon fill=\"black\" stroke=\"black\" points=\"2042.53,-103.9 2046.78,-94.2 2037.4,-99.14 2042.53,-103.9\"/>\n<text text-anchor=\"middle\" x=\"1941.27\" y=\"-153.6\" font-family=\"Times,serif\" font-size=\"14.00\">move_to_kitchen,5,0.5</text>\n</g>\n<!-- t7&#45;&gt;t7 -->\n<g id=\"edge16\" class=\"edge\">\n<title>t7-&gt;t7</title>\n<path fill=\"none\" stroke=\"black\" d=\"M1808.58,-166.34C1803.73,-177.92 1808.36,-189.6 1822.47,-189.6 1832.39,-189.6 1837.63,-183.82 1838.17,-176.37\"/>\n<polygon fill=\"black\" stroke=\"black\" points=\"1841.58,-175.55 1836.36,-166.34 1834.69,-176.8 1841.58,-175.55\"/>\n<text text-anchor=\"middle\" x=\"1822.47\" y=\"-193.4\" font-family=\"Times,serif\" font-size=\"14.00\">open_door_kitchen,4,0.5</text>\n</g>\n<!-- t3 -->\n<g id=\"node8\" class=\"node\">\n<title>t3</title>\n<ellipse fill=\"none\" stroke=\"black\" cx=\"797.68\" cy=\"-150.8\" rx=\"20.6\" ry=\"20.6\"/>\n<text text-anchor=\"middle\" x=\"797.68\" y=\"-147.1\" font-family=\"Times,serif\" font-size=\"14.00\">t3</text>\n</g>\n<!-- t3&#45;&gt;t4 -->\n<g id=\"edge10\" class=\"edge\">\n<title>t3-&gt;t4</title>\n<path fill=\"none\" stroke=\"black\" d=\"M818.94,-151.13C871.96,-151.98 1015,-154.3 1077.53,-155.31\"/>\n<polygon fill=\"black\" stroke=\"black\" points=\"1077.49,-158.81 1087.55,-155.48 1077.6,-151.81 1077.49,-158.81\"/>\n<text text-anchor=\"middle\" x=\"923.48\" y=\"-157.6\" font-family=\"Times,serif\" font-size=\"14.00\">wash,8,0.8</text>\n</g>\n<!-- t3&#45;&gt;t3 -->\n<g id=\"edge9\" class=\"edge\">\n<title>t3-&gt;t3</title>\n<path fill=\"none\" stroke=\"black\" d=\"M780.24,-162.32C768.62,-175.05 774.43,-189.6 797.68,-189.6 815.66,-189.6 823.22,-180.89 820.34,-171.06\"/>\n<polygon fill=\"black\" stroke=\"black\" points=\"823.25,-169.11 815.12,-162.32 817.24,-172.7 823.25,-169.11\"/>\n<text text-anchor=\"middle\" x=\"797.68\" y=\"-193.4\" font-family=\"Times,serif\" font-size=\"14.00\">move_to_bathroom,4,0.2</text>\n</g>\n<!-- t2&#45;&gt;t3 -->\n<g id=\"edge7\" class=\"edge\">\n<title>t2-&gt;t3</title>\n<path fill=\"none\" stroke=\"black\" d=\"M565.25,-150.8C609.34,-150.8 714.52,-150.8 766.52,-150.8\"/>\n<polygon fill=\"black\" stroke=\"black\" points=\"766.77,-154.3 776.77,-150.8 766.77,-147.3 766.77,-154.3\"/>\n<text text-anchor=\"middle\" x=\"670.88\" y=\"-154.6\" font-family=\"Times,serif\" font-size=\"14.00\">move_to_bathroom,3,0.5</text>\n</g>\n<!-- t2&#45;&gt;t2 -->\n<g id=\"edge8\" class=\"edge\">\n<title>t2-&gt;t2</title>\n<path fill=\"none\" stroke=\"black\" d=\"M527.4,-163.51C518.18,-175.94 523.74,-189.6 544.09,-189.6 559.34,-189.6 566.29,-181.92 564.92,-172.83\"/>\n<polygon fill=\"black\" stroke=\"black\" points=\"568.03,-171.23 560.77,-163.51 561.64,-174.07 568.03,-171.23\"/>\n<text text-anchor=\"middle\" x=\"544.09\" y=\"-193.4\" font-family=\"Times,serif\" font-size=\"14.00\">open_door_bathroom,2,0.5</text>\n</g>\n<!-- t0&#45;&gt;t1 -->\n<g id=\"edge2\" class=\"edge\">\n<title>t0-&gt;t1</title>\n<path fill=\"none\" stroke=\"black\" d=\"M146.76,-109.91C152.88,-111.95 159.5,-114.06 165.69,-115.8 208.11,-127.73 257.99,-138.57 288.93,-144.92\"/>\n<polygon fill=\"black\" stroke=\"black\" points=\"288.54,-148.42 299.04,-146.98 289.94,-141.56 288.54,-148.42\"/>\n<text text-anchor=\"middle\" x=\"223.19\" y=\"-145.6\" font-family=\"Times,serif\" font-size=\"14.00\">hot_air_on,5,0.6</text>\n</g>\n<!-- t0&#45;&gt;t8 -->\n<g id=\"edge3\" class=\"edge\">\n<title>t0-&gt;t8</title>\n<path fill=\"none\" stroke=\"black\" d=\"M147.86,-101.8C184.59,-101.8 257,-101.8 318.49,-101.8 318.49,-101.8 318.49,-101.8 1823.47,-101.8 1897.73,-101.8 1984.47,-89.85 2029.12,-82.82\"/>\n<polygon fill=\"black\" stroke=\"black\" points=\"2029.96,-86.23 2039.28,-81.19 2028.85,-79.32 2029.96,-86.23\"/>\n<text text-anchor=\"middle\" x=\"1108.48\" y=\"-105.6\" font-family=\"Times,serif\" font-size=\"14.00\">move_to_kitchen,3,0.2</text>\n</g>\n<!-- t0&#45;&gt;t7 -->\n<g id=\"edge4\" class=\"edge\">\n<title>t0-&gt;t7</title>\n<path fill=\"none\" stroke=\"black\" d=\"M135.38,-123.27C142.76,-135.5 153.28,-150.4 165.69,-160.8 223.24,-209.01 243.42,-232.8 318.49,-232.8 318.49,-232.8 318.49,-232.8 1651.87,-232.8 1708.97,-232.8 1767.07,-194.66 1798.25,-170.4\"/>\n<polygon fill=\"black\" stroke=\"black\" points=\"1800.67,-172.95 1806.3,-163.97 1796.3,-167.48 1800.67,-172.95\"/>\n<text text-anchor=\"middle\" x=\"923.48\" y=\"-236.6\" font-family=\"Times,serif\" font-size=\"14.00\">open_door_kitchen,2,0.2</text>\n</g>\n<!-- t6&#45;&gt;t7 -->\n<g id=\"edge14\" class=\"edge\">\n<title>t6-&gt;t7</title>\n<path fill=\"none\" stroke=\"black\" d=\"M1672,-150.8C1701.53,-150.8 1756.83,-150.8 1791.25,-150.8\"/>\n<polygon fill=\"black\" stroke=\"black\" points=\"1791.64,-154.3 1801.64,-150.8 1791.64,-147.3 1791.64,-154.3\"/>\n<text text-anchor=\"middle\" x=\"1736.67\" y=\"-154.6\" font-family=\"Times,serif\" font-size=\"14.00\">air_off,10,1.0</text>\n</g>\n</g>\n</svg></div>"
     },
     "metadata": {},
     "output_type": "display_data"
    }
   ],
   "source": [
    "render_target(target)"
   ],
   "metadata": {
    "collapsed": false,
    "pycharm": {
     "name": "#%%\n"
    }
   }
  },
  {
   "cell_type": "code",
   "execution_count": null,
   "outputs": [],
   "source": [],
   "metadata": {
    "collapsed": false,
    "pycharm": {
     "name": "#%%\n"
    }
   }
  }
 ],
 "metadata": {
  "kernelspec": {
   "display_name": "Python 3",
   "language": "python",
   "name": "python3"
  },
  "language_info": {
   "codemirror_mode": {
    "name": "ipython",
    "version": 3
   },
   "file_extension": ".py",
   "mimetype": "text/x-python",
   "name": "python",
   "nbconvert_exporter": "python",
   "pygments_lexer": "ipython3",
   "version": "3.8.5"
  }
 },
 "nbformat": 4,
 "nbformat_minor": 1
}