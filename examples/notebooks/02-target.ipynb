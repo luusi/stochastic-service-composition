{
 "cells": [
  {
   "cell_type": "markdown",
   "metadata": {},
   "source": [
    "# Target\n",
    "\n",
    "We are interested in the service composition problem in which\n",
    "the target service is stochastic.\n",
    "\n",
    "Brafman, R. I., De Giacomo, G., Mecella, M., & Sardina, S. (2017, November).\n",
    " Service Composition in Stochastic Settings.\n",
    " In Conference of the Italian Association for Artificial Intelligence (pp. 159-171).\n",
    " Springer, Cham."
   ]
  },
  {
   "cell_type": "markdown",
   "metadata": {
    "pycharm": {
     "name": "#%% md\n"
    }
   },
   "source": [
    "## Examples"
   ]
  },
  {
   "cell_type": "code",
   "execution_count": 1,
   "metadata": {
    "pycharm": {
     "name": "#%%\n"
    }
   },
   "outputs": [],
   "source": [
    "from examples.notebooks.utils import render_target, render_service\n",
    "from stochastic_service_composition.target import build_target_from_transitions\n",
    "\n",
    "\n",
    "def target_service():\n",
    "    \"\"\"Build the target service.\"\"\"\n",
    "    transition_function = {\n",
    "        \"t0\": {\n",
    "            \"hot_air_on\": (\"t1\", 0.6, 5),\n",
    "            \"move_to_kitchen\": (\"t8\", 0.2, 3),\n",
    "            \"open_door_kitchen\": (\"t7\", 0.2, 2),\n",
    "        },\n",
    "        \"t1\": {\"fill_up_bathtub\": (\"t2\", 0.7, 4), \"hot_air_on\": (\"t1\", 0.3, 2)},\n",
    "        \"t2\": {\n",
    "            \"move_to_bathroom\": (\"t3\", 0.5, 3),\n",
    "            \"open_door_bathroom\": (\"t2\", 0.5, 2),\n",
    "        },\n",
    "        \"t3\": {\"move_to_bathroom\": (\"t3\", 0.2, 4), \"wash\": (\"t4\", 0.8, 8)},\n",
    "        \"t4\": {\"move_to_bedroom\": (\"t5\", 1.0, 10)},\n",
    "        \"t5\": {\"empty_bathtub\": (\"t6\", 0.9, 7), \"move_to_bedroom\": (\"t5\", 0.1, 3)},\n",
    "        \"t6\": {\"air_off\": (\"t7\", 1.0, 10)},\n",
    "        \"t7\": {\"move_to_kitchen\": (\"t8\", 0.5, 5), \"open_door_kitchen\": (\"t7\", 0.5, 4)},\n",
    "        \"t8\": {\n",
    "            \"cook_eggs\": (\"t9\", 0.6, 7),\n",
    "            \"move_to_kitchen\": (\"t8\", 0.2, 5),\n",
    "            \"prepare_tea\": (\"t0\", 0.2, 2),\n",
    "        },\n",
    "        \"t9\": {\"no_op\": (\"t0\", 0.8, 1), \"vent_kitchen\": (\"t9\", 0.2, 1)},\n",
    "    }\n",
    "\n",
    "    initial_state = \"t0\"\n",
    "    final_states = {\"t0\"}\n",
    "\n",
    "    return build_target_from_transitions(\n",
    "        transition_function, initial_state, final_states\n",
    "    )\n",
    "\n",
    "target = target_service()\n"
   ]
  },
  {
   "cell_type": "markdown",
   "source": [
    "Only visualize the graph:\n"
   ],
   "metadata": {
    "collapsed": false,
    "pycharm": {
     "name": "#%% md\n"
    }
   }
  },
  {
   "cell_type": "code",
   "execution_count": 2,
   "outputs": [
    {
     "data": {
      "text/plain": "<IPython.core.display.HTML object>",
      "text/html": "<div style=\"display: block; margin-left: auto; margin-right: auto; width: 50%;white-space: nowrap\"><svg xmlns=\"http://www.w3.org/2000/svg\" xmlns:xlink=\"http://www.w3.org/1999/xlink\" width=\"1881pt\" height=\"256pt\" viewBox=\"0.00 0.00 1881.16 255.60\">\n<g id=\"graph0\" class=\"graph\" transform=\"scale(1 1) rotate(0) translate(4 251.6)\">\n<title>%3</title>\n<polygon fill=\"white\" stroke=\"transparent\" points=\"-4,4 -4,-251.6 1877.16,-251.6 1877.16,4 -4,4\"/>\n<!-- fake -->\n<g id=\"node1\" class=\"node\">\n<title>fake</title>\n</g>\n<!-- t0 -->\n<g id=\"node7\" class=\"node\">\n<title>t0</title>\n<ellipse fill=\"none\" stroke=\"black\" cx=\"122.89\" cy=\"-101.8\" rx=\"20.63\" ry=\"20.63\"/>\n<ellipse fill=\"none\" stroke=\"black\" cx=\"122.89\" cy=\"-101.8\" rx=\"24.6\" ry=\"24.6\"/>\n<text text-anchor=\"middle\" x=\"122.89\" y=\"-98.1\" font-family=\"Times,serif\" font-size=\"14.00\">t0</text>\n</g>\n<!-- fake&#45;&gt;t0 -->\n<g id=\"edge1\" class=\"edge\">\n<title>fake-&gt;t0</title>\n<path fill=\"none\" stroke=\"black\" stroke-width=\"2\" d=\"M61.13,-101.8C69.62,-101.8 78.94,-101.8 87.68,-101.8\"/>\n<polygon fill=\"black\" stroke=\"black\" stroke-width=\"2\" points=\"87.96,-105.3 97.96,-101.8 87.96,-98.3 87.96,-105.3\"/>\n</g>\n<!-- t5 -->\n<g id=\"node2\" class=\"node\">\n<title>t5</title>\n<ellipse fill=\"none\" stroke=\"black\" cx=\"1171.28\" cy=\"-193.8\" rx=\"20.6\" ry=\"20.6\"/>\n<text text-anchor=\"middle\" x=\"1171.28\" y=\"-190.1\" font-family=\"Times,serif\" font-size=\"14.00\">t5</text>\n</g>\n<!-- t5&#45;&gt;t5 -->\n<g id=\"edge13\" class=\"edge\">\n<title>t5-&gt;t5</title>\n<path fill=\"none\" stroke=\"black\" d=\"M1156.45,-208.53C1150.52,-220.37 1155.47,-232.6 1171.28,-232.6 1182.64,-232.6 1188.39,-226.28 1188.53,-218.33\"/>\n<polygon fill=\"black\" stroke=\"black\" points=\"1191.9,-217.4 1186.1,-208.53 1185.1,-219.08 1191.9,-217.4\"/>\n<text text-anchor=\"middle\" x=\"1171.28\" y=\"-236.4\" font-family=\"Times,serif\" font-size=\"14.00\">move_to_bedroom</text>\n</g>\n<!-- t6 -->\n<g id=\"node4\" class=\"node\">\n<title>t6</title>\n<ellipse fill=\"none\" stroke=\"black\" cx=\"1357.87\" cy=\"-193.8\" rx=\"20.6\" ry=\"20.6\"/>\n<text text-anchor=\"middle\" x=\"1357.87\" y=\"-190.1\" font-family=\"Times,serif\" font-size=\"14.00\">t6</text>\n</g>\n<!-- t5&#45;&gt;t6 -->\n<g id=\"edge12\" class=\"edge\">\n<title>t5-&gt;t6</title>\n<path fill=\"none\" stroke=\"black\" d=\"M1192.38,-193.8C1224.79,-193.8 1288.75,-193.8 1326.66,-193.8\"/>\n<polygon fill=\"black\" stroke=\"black\" points=\"1327.07,-197.3 1337.07,-193.8 1327.07,-190.3 1327.07,-197.3\"/>\n<text text-anchor=\"middle\" x=\"1264.58\" y=\"-197.6\" font-family=\"Times,serif\" font-size=\"14.00\">empty_bathtub</text>\n</g>\n<!-- t8 -->\n<g id=\"node3\" class=\"node\">\n<title>t8</title>\n<ellipse fill=\"none\" stroke=\"black\" cx=\"1677.07\" cy=\"-77.8\" rx=\"20.6\" ry=\"20.6\"/>\n<text text-anchor=\"middle\" x=\"1677.07\" y=\"-74.1\" font-family=\"Times,serif\" font-size=\"14.00\">t8</text>\n</g>\n<!-- t8&#45;&gt;t8 -->\n<g id=\"edge18\" class=\"edge\">\n<title>t8-&gt;t8</title>\n<path fill=\"none\" stroke=\"black\" d=\"M1664.41,-94.55C1660.85,-105.72 1665.07,-116.6 1677.07,-116.6 1685.31,-116.6 1689.88,-111.46 1690.78,-104.61\"/>\n<polygon fill=\"black\" stroke=\"black\" points=\"1694.25,-104.13 1689.72,-94.55 1687.29,-104.86 1694.25,-104.13\"/>\n<text text-anchor=\"middle\" x=\"1677.07\" y=\"-120.4\" font-family=\"Times,serif\" font-size=\"14.00\">move_to_kitchen</text>\n</g>\n<!-- t9 -->\n<g id=\"node5\" class=\"node\">\n<title>t9</title>\n<ellipse fill=\"none\" stroke=\"black\" cx=\"1827.66\" cy=\"-20.8\" rx=\"20.6\" ry=\"20.6\"/>\n<text text-anchor=\"middle\" x=\"1827.66\" y=\"-17.1\" font-family=\"Times,serif\" font-size=\"14.00\">t9</text>\n</g>\n<!-- t8&#45;&gt;t9 -->\n<g id=\"edge17\" class=\"edge\">\n<title>t8-&gt;t9</title>\n<path fill=\"none\" stroke=\"black\" d=\"M1696.89,-70.58C1722.57,-60.73 1768.79,-43 1798.58,-31.57\"/>\n<polygon fill=\"black\" stroke=\"black\" points=\"1799.91,-34.81 1808,-27.96 1797.41,-28.27 1799.91,-34.81\"/>\n<text text-anchor=\"middle\" x=\"1752.37\" y=\"-66.6\" font-family=\"Times,serif\" font-size=\"14.00\">cook_eggs</text>\n</g>\n<!-- t8&#45;&gt;t0 -->\n<g id=\"edge19\" class=\"edge\">\n<title>t8-&gt;t0</title>\n<path fill=\"none\" stroke=\"black\" d=\"M1656.58,-73.28C1621.68,-65.59 1546.1,-50.8 1481.47,-50.8 277.49,-50.8 277.49,-50.8 277.49,-50.8 232.87,-50.8 184.5,-70.43 154.2,-85.33\"/>\n<polygon fill=\"black\" stroke=\"black\" points=\"152.37,-82.33 145.03,-89.97 155.53,-88.58 152.37,-82.33\"/>\n<text text-anchor=\"middle\" x=\"924.98\" y=\"-54.6\" font-family=\"Times,serif\" font-size=\"14.00\">prepare_tea</text>\n</g>\n<!-- t7 -->\n<g id=\"node9\" class=\"node\">\n<title>t7</title>\n<ellipse fill=\"none\" stroke=\"black\" cx=\"1480.47\" cy=\"-150.8\" rx=\"20.6\" ry=\"20.6\"/>\n<text text-anchor=\"middle\" x=\"1480.47\" y=\"-147.1\" font-family=\"Times,serif\" font-size=\"14.00\">t7</text>\n</g>\n<!-- t6&#45;&gt;t7 -->\n<g id=\"edge14\" class=\"edge\">\n<title>t6-&gt;t7</title>\n<path fill=\"none\" stroke=\"black\" d=\"M1377.72,-187.08C1397.45,-180.04 1428.67,-168.91 1451.33,-160.83\"/>\n<polygon fill=\"black\" stroke=\"black\" points=\"1452.52,-164.13 1460.76,-157.47 1450.17,-157.53 1452.52,-164.13\"/>\n<text text-anchor=\"middle\" x=\"1419.17\" y=\"-183.6\" font-family=\"Times,serif\" font-size=\"14.00\">air_off</text>\n</g>\n<!-- t9&#45;&gt;t9 -->\n<g id=\"edge21\" class=\"edge\">\n<title>t9-&gt;t9</title>\n<path fill=\"none\" stroke=\"black\" d=\"M1815.01,-37.55C1811.45,-48.72 1815.67,-59.6 1827.66,-59.6 1835.91,-59.6 1840.48,-54.46 1841.38,-47.61\"/>\n<polygon fill=\"black\" stroke=\"black\" points=\"1844.84,-47.13 1840.32,-37.55 1837.88,-47.86 1844.84,-47.13\"/>\n<text text-anchor=\"middle\" x=\"1827.66\" y=\"-63.4\" font-family=\"Times,serif\" font-size=\"14.00\">vent_kitchen</text>\n</g>\n<!-- t9&#45;&gt;t0 -->\n<g id=\"edge20\" class=\"edge\">\n<title>t9-&gt;t0</title>\n<path fill=\"none\" stroke=\"black\" d=\"M1807.03,-17.33C1778.66,-12.62 1724.51,-4.8 1678.07,-4.8 277.49,-4.8 277.49,-4.8 277.49,-4.8 223.59,-4.8 209.04,-19.77 165.69,-51.8 157.67,-57.72 150.22,-65.49 143.9,-73.14\"/>\n<polygon fill=\"black\" stroke=\"black\" points=\"140.92,-71.26 137.5,-81.29 146.43,-75.58 140.92,-71.26\"/>\n<text text-anchor=\"middle\" x=\"1067.48\" y=\"-8.6\" font-family=\"Times,serif\" font-size=\"14.00\">no_op</text>\n</g>\n<!-- t2 -->\n<g id=\"node6\" class=\"node\">\n<title>t2</title>\n<ellipse fill=\"none\" stroke=\"black\" cx=\"462.09\" cy=\"-193.8\" rx=\"20.6\" ry=\"20.6\"/>\n<text text-anchor=\"middle\" x=\"462.09\" y=\"-190.1\" font-family=\"Times,serif\" font-size=\"14.00\">t2</text>\n</g>\n<!-- t2&#45;&gt;t2 -->\n<g id=\"edge8\" class=\"edge\">\n<title>t2-&gt;t2</title>\n<path fill=\"none\" stroke=\"black\" d=\"M447.39,-208.93C441.89,-220.65 446.79,-232.6 462.09,-232.6 472.96,-232.6 478.58,-226.56 478.94,-218.86\"/>\n<polygon fill=\"black\" stroke=\"black\" points=\"482.33,-217.96 476.78,-208.93 475.49,-219.45 482.33,-217.96\"/>\n<text text-anchor=\"middle\" x=\"462.09\" y=\"-236.4\" font-family=\"Times,serif\" font-size=\"14.00\">open_door_bathroom</text>\n</g>\n<!-- t3 -->\n<g id=\"node8\" class=\"node\">\n<title>t3</title>\n<ellipse fill=\"none\" stroke=\"black\" cx=\"675.68\" cy=\"-193.8\" rx=\"20.6\" ry=\"20.6\"/>\n<text text-anchor=\"middle\" x=\"675.68\" y=\"-190.1\" font-family=\"Times,serif\" font-size=\"14.00\">t3</text>\n</g>\n<!-- t2&#45;&gt;t3 -->\n<g id=\"edge7\" class=\"edge\">\n<title>t2-&gt;t3</title>\n<path fill=\"none\" stroke=\"black\" d=\"M482.99,-193.8C520.25,-193.8 600.7,-193.8 644.6,-193.8\"/>\n<polygon fill=\"black\" stroke=\"black\" points=\"644.67,-197.3 654.67,-193.8 644.67,-190.3 644.67,-197.3\"/>\n<text text-anchor=\"middle\" x=\"568.88\" y=\"-197.6\" font-family=\"Times,serif\" font-size=\"14.00\">move_to_bathroom</text>\n</g>\n<!-- t0&#45;&gt;t8 -->\n<g id=\"edge3\" class=\"edge\">\n<title>t0-&gt;t8</title>\n<path fill=\"none\" stroke=\"black\" d=\"M147.84,-101.8C178.05,-101.8 231.62,-101.8 277.49,-101.8 277.49,-101.8 277.49,-101.8 1481.47,-101.8 1540.43,-101.8 1608.69,-90.81 1646.68,-83.7\"/>\n<polygon fill=\"black\" stroke=\"black\" points=\"1647.39,-87.13 1656.55,-81.82 1646.07,-80.26 1647.39,-87.13\"/>\n<text text-anchor=\"middle\" x=\"924.98\" y=\"-105.6\" font-family=\"Times,serif\" font-size=\"14.00\">move_to_kitchen</text>\n</g>\n<!-- t0&#45;&gt;t7 -->\n<g id=\"edge4\" class=\"edge\">\n<title>t0-&gt;t7</title>\n<path fill=\"none\" stroke=\"black\" d=\"M145.74,-111.99C175.05,-124.7 229.03,-144.8 277.49,-144.8 277.49,-144.8 277.49,-144.8 1358.87,-144.8 1389.73,-144.8 1424.98,-146.78 1449.37,-148.47\"/>\n<polygon fill=\"black\" stroke=\"black\" points=\"1449.2,-151.97 1459.43,-149.19 1449.7,-144.98 1449.2,-151.97\"/>\n<text text-anchor=\"middle\" x=\"780.98\" y=\"-148.6\" font-family=\"Times,serif\" font-size=\"14.00\">open_door_kitchen</text>\n</g>\n<!-- t1 -->\n<g id=\"node11\" class=\"node\">\n<title>t1</title>\n<ellipse fill=\"none\" stroke=\"black\" cx=\"278.49\" cy=\"-193.8\" rx=\"20.6\" ry=\"20.6\"/>\n<text text-anchor=\"middle\" x=\"278.49\" y=\"-190.1\" font-family=\"Times,serif\" font-size=\"14.00\">t1</text>\n</g>\n<!-- t0&#45;&gt;t1 -->\n<g id=\"edge2\" class=\"edge\">\n<title>t0-&gt;t1</title>\n<path fill=\"none\" stroke=\"black\" d=\"M135.21,-123.45C142.46,-135.41 152.91,-149.66 165.69,-158.8 190.19,-176.32 223.76,-185.28 247.7,-189.72\"/>\n<polygon fill=\"black\" stroke=\"black\" points=\"247.19,-193.19 257.64,-191.41 248.37,-186.28 247.19,-193.19\"/>\n<text text-anchor=\"middle\" x=\"202.69\" y=\"-190.6\" font-family=\"Times,serif\" font-size=\"14.00\">hot_air_on</text>\n</g>\n<!-- t3&#45;&gt;t3 -->\n<g id=\"edge9\" class=\"edge\">\n<title>t3-&gt;t3</title>\n<path fill=\"none\" stroke=\"black\" d=\"M659.65,-207.32C651.85,-219.52 657.2,-232.6 675.68,-232.6 689.26,-232.6 695.74,-225.55 695.14,-216.97\"/>\n<polygon fill=\"black\" stroke=\"black\" points=\"698.36,-215.57 691.71,-207.32 691.77,-217.91 698.36,-215.57\"/>\n<text text-anchor=\"middle\" x=\"675.68\" y=\"-236.4\" font-family=\"Times,serif\" font-size=\"14.00\">move_to_bathroom</text>\n</g>\n<!-- t4 -->\n<g id=\"node10\" class=\"node\">\n<title>t4</title>\n<ellipse fill=\"none\" stroke=\"black\" cx=\"924.98\" cy=\"-193.8\" rx=\"20.6\" ry=\"20.6\"/>\n<text text-anchor=\"middle\" x=\"924.98\" y=\"-190.1\" font-family=\"Times,serif\" font-size=\"14.00\">t4</text>\n</g>\n<!-- t3&#45;&gt;t4 -->\n<g id=\"edge10\" class=\"edge\">\n<title>t3-&gt;t4</title>\n<path fill=\"none\" stroke=\"black\" d=\"M696.5,-193.8C739.73,-193.8 842.72,-193.8 893.96,-193.8\"/>\n<polygon fill=\"black\" stroke=\"black\" points=\"894.07,-197.3 904.07,-193.8 894.07,-190.3 894.07,-197.3\"/>\n<text text-anchor=\"middle\" x=\"780.98\" y=\"-197.6\" font-family=\"Times,serif\" font-size=\"14.00\">wash</text>\n</g>\n<!-- t7&#45;&gt;t8 -->\n<g id=\"edge15\" class=\"edge\">\n<title>t7-&gt;t8</title>\n<path fill=\"none\" stroke=\"black\" d=\"M1501.29,-149.91C1532.32,-147.78 1593.45,-140.51 1638.27,-115.8 1644.99,-112.09 1651.31,-106.83 1656.78,-101.4\"/>\n<polygon fill=\"black\" stroke=\"black\" points=\"1659.41,-103.71 1663.68,-94.01 1654.29,-98.93 1659.41,-103.71\"/>\n<text text-anchor=\"middle\" x=\"1578.77\" y=\"-151.6\" font-family=\"Times,serif\" font-size=\"14.00\">move_to_kitchen</text>\n</g>\n<!-- t7&#45;&gt;t7 -->\n<g id=\"edge16\" class=\"edge\">\n<title>t7-&gt;t7</title>\n<path fill=\"none\" stroke=\"black\" d=\"M1469.92,-168.76C1467.58,-179.49 1471.1,-189.6 1480.47,-189.6 1486.77,-189.6 1490.42,-185.04 1491.43,-178.79\"/>\n<polygon fill=\"black\" stroke=\"black\" points=\"1494.93,-178.6 1491.02,-168.76 1487.93,-178.89 1494.93,-178.6\"/>\n<text text-anchor=\"middle\" x=\"1480.47\" y=\"-193.4\" font-family=\"Times,serif\" font-size=\"14.00\">open_door_kitchen</text>\n</g>\n<!-- t4&#45;&gt;t5 -->\n<g id=\"edge11\" class=\"edge\">\n<title>t4-&gt;t5</title>\n<path fill=\"none\" stroke=\"black\" d=\"M945.97,-193.8C988.76,-193.8 1089.41,-193.8 1140.05,-193.8\"/>\n<polygon fill=\"black\" stroke=\"black\" points=\"1140.35,-197.3 1150.35,-193.8 1140.35,-190.3 1140.35,-197.3\"/>\n<text text-anchor=\"middle\" x=\"1067.48\" y=\"-197.6\" font-family=\"Times,serif\" font-size=\"14.00\">move_to_bedroom</text>\n</g>\n<!-- t1&#45;&gt;t2 -->\n<g id=\"edge5\" class=\"edge\">\n<title>t1-&gt;t2</title>\n<path fill=\"none\" stroke=\"black\" d=\"M299.62,-193.8C331.47,-193.8 393.7,-193.8 430.91,-193.8\"/>\n<polygon fill=\"black\" stroke=\"black\" points=\"431.14,-197.3 441.14,-193.8 431.14,-190.3 431.14,-197.3\"/>\n<text text-anchor=\"middle\" x=\"370.29\" y=\"-197.6\" font-family=\"Times,serif\" font-size=\"14.00\">fill_up_bathtub</text>\n</g>\n<!-- t1&#45;&gt;t1 -->\n<g id=\"edge6\" class=\"edge\">\n<title>t1-&gt;t1</title>\n<path fill=\"none\" stroke=\"black\" d=\"M265.84,-210.55C262.28,-221.72 266.49,-232.6 278.49,-232.6 286.74,-232.6 291.31,-227.46 292.2,-220.61\"/>\n<polygon fill=\"black\" stroke=\"black\" points=\"295.67,-220.13 291.14,-210.55 288.71,-220.86 295.67,-220.13\"/>\n<text text-anchor=\"middle\" x=\"278.49\" y=\"-236.4\" font-family=\"Times,serif\" font-size=\"14.00\">hot_air_on</text>\n</g>\n</g>\n</svg></div>"
     },
     "metadata": {},
     "output_type": "display_data"
    }
   ],
   "source": [
    "render_service(target)"
   ],
   "metadata": {
    "collapsed": false,
    "pycharm": {
     "name": "#%%\n"
    }
   }
  },
  {
   "cell_type": "markdown",
   "source": [
    "Visualize the policy and the rewards:"
   ],
   "metadata": {
    "collapsed": false,
    "pycharm": {
     "name": "#%% md\n"
    }
   }
  },
  {
   "cell_type": "code",
   "execution_count": 3,
   "outputs": [
    {
     "data": {
      "text/plain": "<IPython.core.display.HTML object>",
      "text/html": "<div style=\"display: block; margin-left: auto; margin-right: auto; width: 50%;white-space: nowrap\"><svg xmlns=\"http://www.w3.org/2000/svg\" xmlns:xlink=\"http://www.w3.org/1999/xlink\" width=\"2326pt\" height=\"256pt\" viewBox=\"0.00 0.00 2325.66 255.60\">\n<g id=\"graph0\" class=\"graph\" transform=\"scale(1 1) rotate(0) translate(4 251.6)\">\n<title>%3</title>\n<polygon fill=\"white\" stroke=\"transparent\" points=\"-4,4 -4,-251.6 2321.66,-251.6 2321.66,4 -4,4\"/>\n<!-- fake -->\n<g id=\"node1\" class=\"node\">\n<title>fake</title>\n</g>\n<!-- t0 -->\n<g id=\"node7\" class=\"node\">\n<title>t0</title>\n<ellipse fill=\"none\" stroke=\"black\" cx=\"122.89\" cy=\"-101.8\" rx=\"20.63\" ry=\"20.63\"/>\n<ellipse fill=\"none\" stroke=\"black\" cx=\"122.89\" cy=\"-101.8\" rx=\"24.6\" ry=\"24.6\"/>\n<text text-anchor=\"middle\" x=\"122.89\" y=\"-98.1\" font-family=\"Times,serif\" font-size=\"14.00\">t0</text>\n</g>\n<!-- fake&#45;&gt;t0 -->\n<g id=\"edge1\" class=\"edge\">\n<title>fake-&gt;t0</title>\n<path fill=\"none\" stroke=\"black\" stroke-width=\"2\" d=\"M61.13,-101.8C69.62,-101.8 78.94,-101.8 87.68,-101.8\"/>\n<polygon fill=\"black\" stroke=\"black\" stroke-width=\"2\" points=\"87.96,-105.3 97.96,-101.8 87.96,-98.3 87.96,-105.3\"/>\n</g>\n<!-- t5 -->\n<g id=\"node2\" class=\"node\">\n<title>t5</title>\n<ellipse fill=\"none\" stroke=\"black\" cx=\"1424.28\" cy=\"-193.8\" rx=\"20.6\" ry=\"20.6\"/>\n<text text-anchor=\"middle\" x=\"1424.28\" y=\"-190.1\" font-family=\"Times,serif\" font-size=\"14.00\">t5</text>\n</g>\n<!-- t5&#45;&gt;t5 -->\n<g id=\"edge13\" class=\"edge\">\n<title>t5-&gt;t5</title>\n<path fill=\"none\" stroke=\"black\" d=\"M1407.59,-206.51C1398.37,-218.94 1403.93,-232.6 1424.28,-232.6 1439.54,-232.6 1446.48,-224.92 1445.11,-215.83\"/>\n<polygon fill=\"black\" stroke=\"black\" points=\"1448.23,-214.23 1440.97,-206.51 1441.83,-217.07 1448.23,-214.23\"/>\n<text text-anchor=\"middle\" x=\"1424.28\" y=\"-236.4\" font-family=\"Times,serif\" font-size=\"14.00\">move_to_bedroom,3,0.1</text>\n</g>\n<!-- t6 -->\n<g id=\"node4\" class=\"node\">\n<title>t6</title>\n<ellipse fill=\"none\" stroke=\"black\" cx=\"1650.87\" cy=\"-193.8\" rx=\"20.6\" ry=\"20.6\"/>\n<text text-anchor=\"middle\" x=\"1650.87\" y=\"-190.1\" font-family=\"Times,serif\" font-size=\"14.00\">t6</text>\n</g>\n<!-- t5&#45;&gt;t6 -->\n<g id=\"edge12\" class=\"edge\">\n<title>t5-&gt;t6</title>\n<path fill=\"none\" stroke=\"black\" d=\"M1445.21,-193.8C1484.75,-193.8 1573.31,-193.8 1619.91,-193.8\"/>\n<polygon fill=\"black\" stroke=\"black\" points=\"1619.99,-197.3 1629.99,-193.8 1619.99,-190.3 1619.99,-197.3\"/>\n<text text-anchor=\"middle\" x=\"1537.58\" y=\"-197.6\" font-family=\"Times,serif\" font-size=\"14.00\">empty_bathtub,7,0.9</text>\n</g>\n<!-- t8 -->\n<g id=\"node3\" class=\"node\">\n<title>t8</title>\n<ellipse fill=\"none\" stroke=\"black\" cx=\"2060.07\" cy=\"-77.8\" rx=\"20.6\" ry=\"20.6\"/>\n<text text-anchor=\"middle\" x=\"2060.07\" y=\"-74.1\" font-family=\"Times,serif\" font-size=\"14.00\">t8</text>\n</g>\n<!-- t8&#45;&gt;t8 -->\n<g id=\"edge18\" class=\"edge\">\n<title>t8-&gt;t8</title>\n<path fill=\"none\" stroke=\"black\" d=\"M2044.92,-92.53C2038.86,-104.37 2043.91,-116.6 2060.07,-116.6 2071.68,-116.6 2077.55,-110.28 2077.69,-102.33\"/>\n<polygon fill=\"black\" stroke=\"black\" points=\"2081.06,-101.37 2075.21,-92.53 2074.27,-103.08 2081.06,-101.37\"/>\n<text text-anchor=\"middle\" x=\"2060.07\" y=\"-120.4\" font-family=\"Times,serif\" font-size=\"14.00\">move_to_kitchen,5,0.2</text>\n</g>\n<!-- t9 -->\n<g id=\"node5\" class=\"node\">\n<title>t9</title>\n<ellipse fill=\"none\" stroke=\"black\" cx=\"2251.66\" cy=\"-20.8\" rx=\"20.6\" ry=\"20.6\"/>\n<text text-anchor=\"middle\" x=\"2251.66\" y=\"-17.1\" font-family=\"Times,serif\" font-size=\"14.00\">t9</text>\n</g>\n<!-- t8&#45;&gt;t9 -->\n<g id=\"edge17\" class=\"edge\">\n<title>t8-&gt;t9</title>\n<path fill=\"none\" stroke=\"black\" d=\"M2080.29,-72.02C2113.65,-61.99 2182.43,-41.31 2221.64,-29.53\"/>\n<polygon fill=\"black\" stroke=\"black\" points=\"2222.82,-32.82 2231.39,-26.59 2220.81,-26.12 2222.82,-32.82\"/>\n<text text-anchor=\"middle\" x=\"2155.87\" y=\"-69.6\" font-family=\"Times,serif\" font-size=\"14.00\">cook_eggs,7,0.6</text>\n</g>\n<!-- t8&#45;&gt;t0 -->\n<g id=\"edge19\" class=\"edge\">\n<title>t8-&gt;t0</title>\n<path fill=\"none\" stroke=\"black\" d=\"M2039.61,-74.04C1999.4,-66.63 1904.16,-50.8 1823.47,-50.8 318.49,-50.8 318.49,-50.8 318.49,-50.8 259.34,-50.8 193.28,-73.12 155.34,-88.23\"/>\n<polygon fill=\"black\" stroke=\"black\" points=\"153.82,-85.07 145.87,-92.09 156.45,-91.56 153.82,-85.07\"/>\n<text text-anchor=\"middle\" x=\"1108.48\" y=\"-54.6\" font-family=\"Times,serif\" font-size=\"14.00\">prepare_tea,2,0.2</text>\n</g>\n<!-- t7 -->\n<g id=\"node9\" class=\"node\">\n<title>t7</title>\n<ellipse fill=\"none\" stroke=\"black\" cx=\"1822.47\" cy=\"-150.8\" rx=\"20.6\" ry=\"20.6\"/>\n<text text-anchor=\"middle\" x=\"1822.47\" y=\"-147.1\" font-family=\"Times,serif\" font-size=\"14.00\">t7</text>\n</g>\n<!-- t6&#45;&gt;t7 -->\n<g id=\"edge14\" class=\"edge\">\n<title>t6-&gt;t7</title>\n<path fill=\"none\" stroke=\"black\" d=\"M1671.33,-188.87C1700.98,-181.35 1757.66,-166.98 1792.27,-158.2\"/>\n<polygon fill=\"black\" stroke=\"black\" points=\"1793.41,-161.52 1802.24,-155.67 1791.69,-154.74 1793.41,-161.52\"/>\n<text text-anchor=\"middle\" x=\"1736.67\" y=\"-186.6\" font-family=\"Times,serif\" font-size=\"14.00\">air_off,10,1.0</text>\n</g>\n<!-- t9&#45;&gt;t9 -->\n<g id=\"edge21\" class=\"edge\">\n<title>t9-&gt;t9</title>\n<path fill=\"none\" stroke=\"black\" d=\"M2236.52,-35.53C2230.46,-47.37 2235.51,-59.6 2251.66,-59.6 2263.28,-59.6 2269.15,-53.28 2269.29,-45.33\"/>\n<polygon fill=\"black\" stroke=\"black\" points=\"2272.65,-44.37 2266.81,-35.53 2265.87,-46.08 2272.65,-44.37\"/>\n<text text-anchor=\"middle\" x=\"2251.66\" y=\"-63.4\" font-family=\"Times,serif\" font-size=\"14.00\">vent_kitchen,1,0.2</text>\n</g>\n<!-- t9&#45;&gt;t0 -->\n<g id=\"edge20\" class=\"edge\">\n<title>t9-&gt;t0</title>\n<path fill=\"none\" stroke=\"black\" d=\"M2230.78,-18.01C2196.31,-13.43 2123.17,-4.8 2061.07,-4.8 318.49,-4.8 318.49,-4.8 318.49,-4.8 247.69,-4.8 224.51,-10.41 165.69,-49.8 156.81,-55.74 148.91,-64.16 142.42,-72.49\"/>\n<polygon fill=\"black\" stroke=\"black\" points=\"139.5,-70.55 136.43,-80.69 145.15,-74.68 139.5,-70.55\"/>\n<text text-anchor=\"middle\" x=\"1295.98\" y=\"-8.6\" font-family=\"Times,serif\" font-size=\"14.00\">no_op,1,0.8</text>\n</g>\n<!-- t2 -->\n<g id=\"node6\" class=\"node\">\n<title>t2</title>\n<ellipse fill=\"none\" stroke=\"black\" cx=\"544.09\" cy=\"-193.8\" rx=\"20.6\" ry=\"20.6\"/>\n<text text-anchor=\"middle\" x=\"544.09\" y=\"-190.1\" font-family=\"Times,serif\" font-size=\"14.00\">t2</text>\n</g>\n<!-- t2&#45;&gt;t2 -->\n<g id=\"edge8\" class=\"edge\">\n<title>t2-&gt;t2</title>\n<path fill=\"none\" stroke=\"black\" d=\"M527.4,-206.51C518.18,-218.94 523.74,-232.6 544.09,-232.6 559.34,-232.6 566.29,-224.92 564.92,-215.83\"/>\n<polygon fill=\"black\" stroke=\"black\" points=\"568.03,-214.23 560.77,-206.51 561.64,-217.07 568.03,-214.23\"/>\n<text text-anchor=\"middle\" x=\"544.09\" y=\"-236.4\" font-family=\"Times,serif\" font-size=\"14.00\">open_door_bathroom,2,0.5</text>\n</g>\n<!-- t3 -->\n<g id=\"node8\" class=\"node\">\n<title>t3</title>\n<ellipse fill=\"none\" stroke=\"black\" cx=\"797.68\" cy=\"-193.8\" rx=\"20.6\" ry=\"20.6\"/>\n<text text-anchor=\"middle\" x=\"797.68\" y=\"-190.1\" font-family=\"Times,serif\" font-size=\"14.00\">t3</text>\n</g>\n<!-- t2&#45;&gt;t3 -->\n<g id=\"edge7\" class=\"edge\">\n<title>t2-&gt;t3</title>\n<path fill=\"none\" stroke=\"black\" d=\"M565.25,-193.8C609.34,-193.8 714.52,-193.8 766.52,-193.8\"/>\n<polygon fill=\"black\" stroke=\"black\" points=\"766.77,-197.3 776.77,-193.8 766.77,-190.3 766.77,-197.3\"/>\n<text text-anchor=\"middle\" x=\"670.88\" y=\"-197.6\" font-family=\"Times,serif\" font-size=\"14.00\">move_to_bathroom,3,0.5</text>\n</g>\n<!-- t0&#45;&gt;t8 -->\n<g id=\"edge3\" class=\"edge\">\n<title>t0-&gt;t8</title>\n<path fill=\"none\" stroke=\"black\" d=\"M147.86,-101.8C184.59,-101.8 257,-101.8 318.49,-101.8 318.49,-101.8 318.49,-101.8 1823.47,-101.8 1897.73,-101.8 1984.47,-89.85 2029.12,-82.82\"/>\n<polygon fill=\"black\" stroke=\"black\" points=\"2029.96,-86.23 2039.28,-81.19 2028.85,-79.32 2029.96,-86.23\"/>\n<text text-anchor=\"middle\" x=\"1108.48\" y=\"-105.6\" font-family=\"Times,serif\" font-size=\"14.00\">move_to_kitchen,3,0.2</text>\n</g>\n<!-- t0&#45;&gt;t7 -->\n<g id=\"edge4\" class=\"edge\">\n<title>t0-&gt;t7</title>\n<path fill=\"none\" stroke=\"black\" d=\"M146.31,-110.09C182.15,-122.58 254.83,-144.8 318.49,-144.8 318.49,-144.8 318.49,-144.8 1651.87,-144.8 1700.79,-144.8 1757.59,-147.32 1791.48,-149.1\"/>\n<polygon fill=\"black\" stroke=\"black\" points=\"1791.46,-152.6 1801.64,-149.64 1791.84,-145.61 1791.46,-152.6\"/>\n<text text-anchor=\"middle\" x=\"923.48\" y=\"-148.6\" font-family=\"Times,serif\" font-size=\"14.00\">open_door_kitchen,2,0.2</text>\n</g>\n<!-- t1 -->\n<g id=\"node11\" class=\"node\">\n<title>t1</title>\n<ellipse fill=\"none\" stroke=\"black\" cx=\"319.49\" cy=\"-193.8\" rx=\"20.6\" ry=\"20.6\"/>\n<text text-anchor=\"middle\" x=\"319.49\" y=\"-190.1\" font-family=\"Times,serif\" font-size=\"14.00\">t1</text>\n</g>\n<!-- t0&#45;&gt;t1 -->\n<g id=\"edge2\" class=\"edge\">\n<title>t0-&gt;t1</title>\n<path fill=\"none\" stroke=\"black\" d=\"M134.95,-123.83C142.12,-135.92 152.57,-150.17 165.69,-158.8 203.08,-183.38 255.47,-190.82 288.17,-193\"/>\n<polygon fill=\"black\" stroke=\"black\" points=\"288.28,-196.51 298.45,-193.56 288.66,-189.52 288.28,-196.51\"/>\n<text text-anchor=\"middle\" x=\"223.19\" y=\"-195.6\" font-family=\"Times,serif\" font-size=\"14.00\">hot_air_on,5,0.6</text>\n</g>\n<!-- t3&#45;&gt;t3 -->\n<g id=\"edge9\" class=\"edge\">\n<title>t3-&gt;t3</title>\n<path fill=\"none\" stroke=\"black\" d=\"M780.24,-205.32C768.62,-218.05 774.43,-232.6 797.68,-232.6 815.66,-232.6 823.22,-223.89 820.34,-214.06\"/>\n<polygon fill=\"black\" stroke=\"black\" points=\"823.25,-212.11 815.12,-205.32 817.24,-215.7 823.25,-212.11\"/>\n<text text-anchor=\"middle\" x=\"797.68\" y=\"-236.4\" font-family=\"Times,serif\" font-size=\"14.00\">move_to_bathroom,4,0.2</text>\n</g>\n<!-- t4 -->\n<g id=\"node10\" class=\"node\">\n<title>t4</title>\n<ellipse fill=\"none\" stroke=\"black\" cx=\"1108.48\" cy=\"-193.8\" rx=\"20.6\" ry=\"20.6\"/>\n<text text-anchor=\"middle\" x=\"1108.48\" y=\"-190.1\" font-family=\"Times,serif\" font-size=\"14.00\">t4</text>\n</g>\n<!-- t3&#45;&gt;t4 -->\n<g id=\"edge10\" class=\"edge\">\n<title>t3-&gt;t4</title>\n<path fill=\"none\" stroke=\"black\" d=\"M818.94,-193.8C871.96,-193.8 1015,-193.8 1077.53,-193.8\"/>\n<polygon fill=\"black\" stroke=\"black\" points=\"1077.55,-197.3 1087.55,-193.8 1077.55,-190.3 1077.55,-197.3\"/>\n<text text-anchor=\"middle\" x=\"923.48\" y=\"-197.6\" font-family=\"Times,serif\" font-size=\"14.00\">wash,8,0.8</text>\n</g>\n<!-- t7&#45;&gt;t8 -->\n<g id=\"edge15\" class=\"edge\">\n<title>t7-&gt;t8</title>\n<path fill=\"none\" stroke=\"black\" d=\"M1843.54,-151.14C1880.76,-150.97 1962.08,-146.73 2021.27,-115.8 2028.07,-112.24 2034.42,-107.03 2039.89,-101.6\"/>\n<polygon fill=\"black\" stroke=\"black\" points=\"2042.53,-103.9 2046.78,-94.2 2037.4,-99.14 2042.53,-103.9\"/>\n<text text-anchor=\"middle\" x=\"1941.27\" y=\"-153.6\" font-family=\"Times,serif\" font-size=\"14.00\">move_to_kitchen,5,0.5</text>\n</g>\n<!-- t7&#45;&gt;t7 -->\n<g id=\"edge16\" class=\"edge\">\n<title>t7-&gt;t7</title>\n<path fill=\"none\" stroke=\"black\" d=\"M1808.58,-166.34C1803.73,-177.92 1808.36,-189.6 1822.47,-189.6 1832.39,-189.6 1837.63,-183.82 1838.17,-176.37\"/>\n<polygon fill=\"black\" stroke=\"black\" points=\"1841.58,-175.55 1836.36,-166.34 1834.69,-176.8 1841.58,-175.55\"/>\n<text text-anchor=\"middle\" x=\"1822.47\" y=\"-193.4\" font-family=\"Times,serif\" font-size=\"14.00\">open_door_kitchen,4,0.5</text>\n</g>\n<!-- t4&#45;&gt;t5 -->\n<g id=\"edge11\" class=\"edge\">\n<title>t4-&gt;t5</title>\n<path fill=\"none\" stroke=\"black\" d=\"M1129.59,-193.8C1183.17,-193.8 1329.61,-193.8 1393.17,-193.8\"/>\n<polygon fill=\"black\" stroke=\"black\" points=\"1393.34,-197.3 1403.34,-193.8 1393.34,-190.3 1393.34,-197.3\"/>\n<text text-anchor=\"middle\" x=\"1295.98\" y=\"-197.6\" font-family=\"Times,serif\" font-size=\"14.00\">move_to_bedroom,10,1.0</text>\n</g>\n<!-- t1&#45;&gt;t2 -->\n<g id=\"edge5\" class=\"edge\">\n<title>t1-&gt;t2</title>\n<path fill=\"none\" stroke=\"black\" d=\"M340.64,-193.8C379.87,-193.8 466.72,-193.8 512.87,-193.8\"/>\n<polygon fill=\"black\" stroke=\"black\" points=\"513.14,-197.3 523.14,-193.8 513.14,-190.3 513.14,-197.3\"/>\n<text text-anchor=\"middle\" x=\"431.79\" y=\"-197.6\" font-family=\"Times,serif\" font-size=\"14.00\">fill_up_bathtub,4,0.7</text>\n</g>\n<!-- t1&#45;&gt;t1 -->\n<g id=\"edge6\" class=\"edge\">\n<title>t1-&gt;t1</title>\n<path fill=\"none\" stroke=\"black\" d=\"M304.24,-208.12C297.72,-220.09 302.8,-232.6 319.49,-232.6 331.61,-232.6 337.61,-226 337.49,-217.79\"/>\n<polygon fill=\"black\" stroke=\"black\" points=\"340.84,-216.79 334.74,-208.12 334.11,-218.7 340.84,-216.79\"/>\n<text text-anchor=\"middle\" x=\"319.49\" y=\"-236.4\" font-family=\"Times,serif\" font-size=\"14.00\">hot_air_on,2,0.3</text>\n</g>\n</g>\n</svg></div>"
     },
     "metadata": {},
     "output_type": "display_data"
    }
   ],
   "source": [
    "render_target(target)\n",
    "\n"
   ],
   "metadata": {
    "collapsed": false,
    "pycharm": {
     "name": "#%%md\n"
    }
   }
  },
  {
   "cell_type": "code",
   "execution_count": null,
   "outputs": [],
   "source": [],
   "metadata": {
    "collapsed": false,
    "pycharm": {
     "name": "#%%\n"
    }
   }
  }
 ],
 "metadata": {
  "kernelspec": {
   "display_name": "Python 3",
   "language": "python",
   "name": "python3"
  },
  "language_info": {
   "codemirror_mode": {
    "name": "ipython",
    "version": 3
   },
   "file_extension": ".py",
   "mimetype": "text/x-python",
   "name": "python",
   "nbconvert_exporter": "python",
   "pygments_lexer": "ipython3",
   "version": "3.8.5"
  }
 },
 "nbformat": 4,
 "nbformat_minor": 1
}