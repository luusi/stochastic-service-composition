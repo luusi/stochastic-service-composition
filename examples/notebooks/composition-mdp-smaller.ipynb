{
 "cells": [
  {
   "cell_type": "markdown",
   "metadata": {
    "pycharm": {
     "name": "#%% md\n"
    }
   },
   "source": [
    "# Composition MDP"
   ]
  },
  {
   "cell_type": "code",
   "execution_count": 1,
   "metadata": {
    "pycharm": {
     "name": "#%%\n"
    }
   },
   "outputs": [],
   "source": [
    "from examples.notebooks.utils import render_target, render_service, render_composition_mdp\n",
    "from stochastic_service_composition.composition import composition_mdp\n",
    "from stochastic_service_composition.services import Service, build_system_service, build_service_from_transitions\n",
    "from stochastic_service_composition.target import build_target_from_transitions, Target\n",
    "\n",
    "\n",
    "\n",
    "def build_target_service() -> Target:\n",
    "    \"\"\"Build the target service.\"\"\"\n",
    "    transition_function = {\n",
    "        \"t0\": {\n",
    "            \"hot_air_on\": (\"t1\", 0.6, 5),\n",
    "            \"move_to_kitchen\": (\"t2\", 0.4, 3),\n",
    "        },\n",
    "        \"t1\": {\"hot_air_off\": (\"t0\", 0.5, 4), \"hot_air_on\": (\"t1\", 0.5, 2)},\n",
    "        \"t2\": {\n",
    "            \"move_to_bathroom\": (\"t0\", 0.7, 3),\n",
    "            \"move_to_kitchen\": (\"t2\", 0.3, 3),\n",
    "        },\n",
    "    }\n",
    "\n",
    "    initial_state = \"t0\"\n",
    "    final_states = {\"t0\"}\n",
    "\n",
    "    return build_target_from_transitions(\n",
    "        transition_function, initial_state, final_states\n",
    "    )\n",
    "\n",
    "target_service = build_target_service()"
   ]
  },
  {
   "cell_type": "code",
   "execution_count": 2,
   "metadata": {
    "pycharm": {
     "name": "#%%\n"
    }
   },
   "outputs": [
    {
     "data": {
      "text/plain": "<IPython.core.display.HTML object>",
      "text/html": "<div style=\"white-space: nowrap\"><svg xmlns=\"http://www.w3.org/2000/svg\" xmlns:xlink=\"http://www.w3.org/1999/xlink\" width=\"468pt\" height=\"190pt\" viewBox=\"0.00 0.00 468.49 189.58\">\n<g id=\"graph0\" class=\"graph\" transform=\"scale(1 1) rotate(0) translate(4 185.58)\">\n<title>%3</title>\n<polygon fill=\"white\" stroke=\"transparent\" points=\"-4,4 -4,-185.58 464.49,-185.58 464.49,4 -4,4\"/>\n<!-- fake -->\n<g id=\"node1\" class=\"node\">\n<title>fake</title>\n</g>\n<!-- t0 -->\n<g id=\"node3\" class=\"node\">\n<title>t0</title>\n<ellipse fill=\"none\" stroke=\"black\" cx=\"122.89\" cy=\"-76.78\" rx=\"20.63\" ry=\"20.63\"/>\n<ellipse fill=\"none\" stroke=\"black\" cx=\"122.89\" cy=\"-76.78\" rx=\"24.6\" ry=\"24.6\"/>\n<text text-anchor=\"middle\" x=\"122.89\" y=\"-73.08\" font-family=\"Times,serif\" font-size=\"14.00\">t0</text>\n</g>\n<!-- fake&#45;&gt;t0 -->\n<g id=\"edge1\" class=\"edge\">\n<title>fake-&gt;t0</title>\n<path fill=\"none\" stroke=\"black\" stroke-width=\"2\" d=\"M61.13,-76.78C69.62,-76.78 78.94,-76.78 87.68,-76.78\"/>\n<polygon fill=\"black\" stroke=\"black\" stroke-width=\"2\" points=\"87.96,-80.28 97.96,-76.78 87.96,-73.28 87.96,-80.28\"/>\n</g>\n<!-- t2 -->\n<g id=\"node2\" class=\"node\">\n<title>t2</title>\n<ellipse fill=\"none\" stroke=\"black\" cx=\"380.49\" cy=\"-127.78\" rx=\"20.6\" ry=\"20.6\"/>\n<text text-anchor=\"middle\" x=\"380.49\" y=\"-124.08\" font-family=\"Times,serif\" font-size=\"14.00\">t2</text>\n</g>\n<!-- t2&#45;&gt;t2 -->\n<g id=\"edge7\" class=\"edge\">\n<title>t2-&gt;t2</title>\n<path fill=\"none\" stroke=\"black\" d=\"M362.77,-139.3C350.96,-152.03 356.86,-166.58 380.49,-166.58 398.76,-166.58 406.43,-157.88 403.51,-148.05\"/>\n<polygon fill=\"black\" stroke=\"black\" points=\"406.39,-146.04 398.21,-139.3 400.4,-149.67 406.39,-146.04\"/>\n<text text-anchor=\"middle\" x=\"380.49\" y=\"-170.38\" font-family=\"Times,serif\" font-size=\"14.00\">move_to_kitchen,3,0.3</text>\n</g>\n<!-- t2&#45;&gt;t0 -->\n<g id=\"edge6\" class=\"edge\">\n<title>t2-&gt;t0</title>\n<path fill=\"none\" stroke=\"black\" d=\"M366.82,-111.91C360.16,-104.76 351.37,-96.99 341.69,-92.78 309.65,-78.85 210.86,-76.69 158.03,-76.57\"/>\n<polygon fill=\"black\" stroke=\"black\" points=\"157.81,-73.07 147.81,-76.57 157.81,-80.07 157.81,-73.07\"/>\n<text text-anchor=\"middle\" x=\"253.69\" y=\"-96.58\" font-family=\"Times,serif\" font-size=\"14.00\">move_to_bathroom,3,0.7</text>\n</g>\n<!-- t0&#45;&gt;t2 -->\n<g id=\"edge3\" class=\"edge\">\n<title>t0-&gt;t2</title>\n<path fill=\"none\" stroke=\"black\" d=\"M140.55,-94.86C147.63,-101.36 156.4,-108.01 165.69,-111.78 227.36,-136.84 307.21,-134.7 349.74,-131.13\"/>\n<polygon fill=\"black\" stroke=\"black\" points=\"350.08,-134.61 359.71,-130.21 349.43,-127.64 350.08,-134.61\"/>\n<text text-anchor=\"middle\" x=\"253.69\" y=\"-136.58\" font-family=\"Times,serif\" font-size=\"14.00\">move_to_kitchen,3,0.4</text>\n</g>\n<!-- t1 -->\n<g id=\"node4\" class=\"node\">\n<title>t1</title>\n<ellipse fill=\"none\" stroke=\"black\" cx=\"380.49\" cy=\"-29.78\" rx=\"20.6\" ry=\"20.6\"/>\n<text text-anchor=\"middle\" x=\"380.49\" y=\"-26.08\" font-family=\"Times,serif\" font-size=\"14.00\">t1</text>\n</g>\n<!-- t0&#45;&gt;t1 -->\n<g id=\"edge2\" class=\"edge\">\n<title>t0-&gt;t1</title>\n<path fill=\"none\" stroke=\"black\" d=\"M145.61,-66.08C151.95,-63.33 158.99,-60.63 165.69,-58.78 241.76,-37.87 263.62,-47.08 341.69,-35.78 344.37,-35.4 347.16,-34.98 349.95,-34.55\"/>\n<polygon fill=\"black\" stroke=\"black\" points=\"350.55,-38 359.89,-33 349.47,-31.09 350.55,-38\"/>\n<text text-anchor=\"middle\" x=\"253.69\" y=\"-62.58\" font-family=\"Times,serif\" font-size=\"14.00\">hot_air_on,5,0.6</text>\n</g>\n<!-- t1&#45;&gt;t0 -->\n<g id=\"edge4\" class=\"edge\">\n<title>t1-&gt;t0</title>\n<path fill=\"none\" stroke=\"black\" d=\"M360.71,-22.52C321.77,-8.72 230.47,17.03 165.69,-16.78 154,-22.89 144.91,-33.92 138.24,-44.88\"/>\n<polygon fill=\"black\" stroke=\"black\" points=\"135,-43.51 133.2,-53.95 141.12,-46.91 135,-43.51\"/>\n<text text-anchor=\"middle\" x=\"253.69\" y=\"-20.58\" font-family=\"Times,serif\" font-size=\"14.00\">hot_air_off,4,0.5</text>\n</g>\n<!-- t1&#45;&gt;t1 -->\n<g id=\"edge5\" class=\"edge\">\n<title>t1-&gt;t1</title>\n<path fill=\"none\" stroke=\"black\" d=\"M362.77,-41.3C350.96,-54.03 356.86,-68.58 380.49,-68.58 398.76,-68.58 406.43,-59.88 403.51,-50.05\"/>\n<polygon fill=\"black\" stroke=\"black\" points=\"406.39,-48.04 398.21,-41.3 400.4,-51.67 406.39,-48.04\"/>\n<text text-anchor=\"middle\" x=\"380.49\" y=\"-72.38\" font-family=\"Times,serif\" font-size=\"14.00\">hot_air_on,2,0.5</text>\n</g>\n</g>\n</svg></div>"
     },
     "metadata": {},
     "output_type": "display_data"
    }
   ],
   "source": [
    "render_target(target_service, style=\"\")"
   ]
  },
  {
   "cell_type": "markdown",
   "metadata": {
    "pycharm": {
     "name": "#%% md\n"
    }
   },
   "source": [
    "## Service community"
   ]
  },
  {
   "cell_type": "code",
   "execution_count": 3,
   "metadata": {
    "pycharm": {
     "name": "#%%\n"
    }
   },
   "outputs": [
    {
     "data": {
      "text/plain": "<IPython.core.display.HTML object>",
      "text/html": "<div style=\"white-space: nowrap\"><svg xmlns=\"http://www.w3.org/2000/svg\" xmlns:xlink=\"http://www.w3.org/1999/xlink\" width=\"2241pt\" height=\"441pt\" viewBox=\"0.00 0.00 2240.98 441.00\">\n<g id=\"graph0\" class=\"graph\" transform=\"scale(1 1) rotate(0) translate(4 437)\">\n<title>%3</title>\n<polygon fill=\"white\" stroke=\"transparent\" points=\"-4,4 -4,-437 2236.98,-437 2236.98,4 -4,4\"/>\n<!-- fake -->\n<g id=\"node1\" class=\"node\">\n<title>fake</title>\n</g>\n<!-- (&#39;air_off&#39;, &#39;bathroom&#39;) -->\n<g id=\"node4\" class=\"node\">\n<title>('air_off', 'bathroom')</title>\n<ellipse fill=\"none\" stroke=\"black\" cx=\"208.69\" cy=\"-176\" rx=\"106.68\" ry=\"106.68\"/>\n<ellipse fill=\"none\" stroke=\"black\" cx=\"208.69\" cy=\"-176\" rx=\"110.68\" ry=\"110.68\"/>\n<text text-anchor=\"middle\" x=\"208.69\" y=\"-172.3\" font-family=\"Times,serif\" font-size=\"14.00\">('air_off', 'bathroom')</text>\n</g>\n<!-- fake&#45;&gt;(&#39;air_off&#39;, &#39;bathroom&#39;) -->\n<g id=\"edge1\" class=\"edge\">\n<title>fake-&gt;('air_off', 'bathroom')</title>\n<path fill=\"none\" stroke=\"black\" stroke-width=\"2\" d=\"M61.43,-176C69.29,-176 78.28,-176 87.85,-176\"/>\n<polygon fill=\"black\" stroke=\"black\" stroke-width=\"2\" points=\"88,-179.5 98,-176 88,-172.5 88,-179.5\"/>\n</g>\n<!-- (&#39;air_hot&#39;, &#39;bathroom&#39;) -->\n<g id=\"node2\" class=\"node\">\n<title>('air_hot', 'bathroom')</title>\n<ellipse fill=\"none\" stroke=\"black\" cx=\"575.77\" cy=\"-176\" rx=\"110.48\" ry=\"110.48\"/>\n<text text-anchor=\"middle\" x=\"575.77\" y=\"-172.3\" font-family=\"Times,serif\" font-size=\"14.00\">('air_hot', 'bathroom')</text>\n</g>\n<!-- (&#39;air_hot&#39;, &#39;bathroom&#39;)&#45;&gt;(&#39;air_hot&#39;, &#39;bathroom&#39;) -->\n<g id=\"edge10\" class=\"edge\">\n<title>('air_hot', 'bathroom')-&gt;('air_hot', 'bathroom')</title>\n<path fill=\"none\" stroke=\"black\" d=\"M561.63,-285.66C564.39,-297.14 569.1,-304.49 575.77,-304.49 580.24,-304.49 583.84,-301.17 586.56,-295.51\"/>\n<polygon fill=\"black\" stroke=\"black\" points=\"590,-296.26 589.9,-285.66 583.37,-294.01 590,-296.26\"/>\n<text text-anchor=\"middle\" x=\"575.77\" y=\"-308.29\" font-family=\"Times,serif\" font-size=\"14.00\">('hot_air_on', 0)</text>\n</g>\n<!-- (&#39;air_hot&#39;, &#39;bathroom&#39;)&#45;&gt;(&#39;air_hot&#39;, &#39;bathroom&#39;) -->\n<g id=\"edge12\" class=\"edge\">\n<title>('air_hot', 'bathroom')-&gt;('air_hot', 'bathroom')</title>\n<path fill=\"none\" stroke=\"black\" d=\"M542.52,-281.67C545.58,-305.27 556.66,-322.49 575.77,-322.49 592.04,-322.49 602.49,-310 607.12,-291.72\"/>\n<polygon fill=\"black\" stroke=\"black\" points=\"610.6,-292.15 609.02,-281.67 603.72,-290.85 610.6,-292.15\"/>\n<text text-anchor=\"middle\" x=\"575.77\" y=\"-326.29\" font-family=\"Times,serif\" font-size=\"14.00\">('move_to_bathroom', 1)</text>\n</g>\n<!-- (&#39;air_hot&#39;, &#39;bathroom&#39;)&#45;&gt;(&#39;air_off&#39;, &#39;bathroom&#39;) -->\n<g id=\"edge11\" class=\"edge\">\n<title>('air_hot', 'bathroom')-&gt;('air_off', 'bathroom')</title>\n<path fill=\"none\" stroke=\"black\" d=\"M466.39,-158.73C459.93,-158.05 453.52,-157.46 447.28,-157 398.52,-153.39 386.03,-153.39 337.28,-157 334.34,-157.22 331.38,-157.46 328.39,-157.73\"/>\n<polygon fill=\"black\" stroke=\"black\" points=\"327.76,-154.28 318.15,-158.73 328.44,-161.24 327.76,-154.28\"/>\n<text text-anchor=\"middle\" x=\"392.28\" y=\"-160.8\" font-family=\"Times,serif\" font-size=\"14.00\">('air_off', 0)</text>\n</g>\n<!-- (&#39;air_hot&#39;, &#39;kitchen&#39;) -->\n<g id=\"node5\" class=\"node\">\n<title>('air_hot', 'kitchen')</title>\n<ellipse fill=\"none\" stroke=\"black\" cx=\"993.7\" cy=\"-176\" rx=\"99.38\" ry=\"99.38\"/>\n<text text-anchor=\"middle\" x=\"993.7\" y=\"-172.3\" font-family=\"Times,serif\" font-size=\"14.00\">('air_hot', 'kitchen')</text>\n</g>\n<!-- (&#39;air_hot&#39;, &#39;bathroom&#39;)&#45;&gt;(&#39;air_hot&#39;, &#39;kitchen&#39;) -->\n<g id=\"edge13\" class=\"edge\">\n<title>('air_hot', 'bathroom')-&gt;('air_hot', 'kitchen')</title>\n<path fill=\"none\" stroke=\"black\" d=\"M686.3,-178.74C692.37,-178.84 698.39,-178.93 704.26,-179 780.7,-179.9 799.82,-179.98 876.26,-179 878.82,-178.97 881.42,-178.93 884.04,-178.89\"/>\n<polygon fill=\"black\" stroke=\"black\" points=\"884.29,-182.39 894.23,-178.72 884.17,-175.39 884.29,-182.39\"/>\n<text text-anchor=\"middle\" x=\"790.26\" y=\"-182.8\" font-family=\"Times,serif\" font-size=\"14.00\">('move_to_kitchen', 1)</text>\n</g>\n<!-- (&#39;air_cold&#39;, &#39;bathroom&#39;) -->\n<g id=\"node3\" class=\"node\">\n<title>('air_cold', 'bathroom')</title>\n<ellipse fill=\"none\" stroke=\"black\" cx=\"2118.59\" cy=\"-147\" rx=\"114.28\" ry=\"114.28\"/>\n<text text-anchor=\"middle\" x=\"2118.59\" y=\"-143.3\" font-family=\"Times,serif\" font-size=\"14.00\">('air_cold', 'bathroom')</text>\n</g>\n<!-- (&#39;air_cold&#39;, &#39;bathroom&#39;)&#45;&gt;(&#39;air_cold&#39;, &#39;bathroom&#39;) -->\n<g id=\"edge6\" class=\"edge\">\n<title>('air_cold', 'bathroom')-&gt;('air_cold', 'bathroom')</title>\n<path fill=\"none\" stroke=\"black\" d=\"M2101.79,-260.46C2105.12,-272.02 2110.72,-279.39 2118.59,-279.39 2124.01,-279.39 2128.35,-275.9 2131.61,-269.97\"/>\n<polygon fill=\"black\" stroke=\"black\" points=\"2134.95,-271.05 2135.39,-260.46 2128.44,-268.46 2134.95,-271.05\"/>\n<text text-anchor=\"middle\" x=\"2118.59\" y=\"-283.19\" font-family=\"Times,serif\" font-size=\"14.00\">('cold_air_on', 0)</text>\n</g>\n<!-- (&#39;air_cold&#39;, &#39;bathroom&#39;)&#45;&gt;(&#39;air_cold&#39;, &#39;bathroom&#39;) -->\n<g id=\"edge8\" class=\"edge\">\n<title>('air_cold', 'bathroom')-&gt;('air_cold', 'bathroom')</title>\n<path fill=\"none\" stroke=\"black\" d=\"M2078.62,-254.47C2082.06,-279.21 2095.39,-297.39 2118.59,-297.39 2138.53,-297.39 2151.18,-283.97 2156.53,-264.49\"/>\n<polygon fill=\"black\" stroke=\"black\" points=\"2160,-264.97 2158.57,-254.47 2153.14,-263.57 2160,-264.97\"/>\n<text text-anchor=\"middle\" x=\"2118.59\" y=\"-301.19\" font-family=\"Times,serif\" font-size=\"14.00\">('move_to_bathroom', 1)</text>\n</g>\n<!-- (&#39;air_cold&#39;, &#39;bathroom&#39;)&#45;&gt;(&#39;air_off&#39;, &#39;bathroom&#39;) -->\n<g id=\"edge7\" class=\"edge\">\n<title>('air_cold', 'bathroom')-&gt;('air_off', 'bathroom')</title>\n<path fill=\"none\" stroke=\"black\" d=\"M2018.2,-91.43C1934.39,-49.8 1809.88,0 1693.86,0 574.77,0 574.77,0 574.77,0 466.11,0 432.99,-6.58 337.28,-58 321.69,-66.37 306.55,-77.1 292.47,-88.67\"/>\n<polygon fill=\"black\" stroke=\"black\" points=\"290.15,-86.05 284.76,-95.17 294.66,-91.4 290.15,-86.05\"/>\n<text text-anchor=\"middle\" x=\"1169.14\" y=\"-3.8\" font-family=\"Times,serif\" font-size=\"14.00\">('air_off', 0)</text>\n</g>\n<!-- (&#39;air_cold&#39;, &#39;kitchen&#39;) -->\n<g id=\"node6\" class=\"node\">\n<title>('air_cold', 'kitchen')</title>\n<ellipse fill=\"none\" stroke=\"black\" cx=\"1692.86\" cy=\"-147\" rx=\"103.18\" ry=\"103.18\"/>\n<text text-anchor=\"middle\" x=\"1692.86\" y=\"-143.3\" font-family=\"Times,serif\" font-size=\"14.00\">('air_cold', 'kitchen')</text>\n</g>\n<!-- (&#39;air_cold&#39;, &#39;bathroom&#39;)&#45;&gt;(&#39;air_cold&#39;, &#39;kitchen&#39;) -->\n<g id=\"edge9\" class=\"edge\">\n<title>('air_cold', 'bathroom')-&gt;('air_cold', 'kitchen')</title>\n<path fill=\"none\" stroke=\"black\" d=\"M2004.04,-147C1942.83,-147 1867.56,-147 1806.5,-147\"/>\n<polygon fill=\"black\" stroke=\"black\" points=\"1806.44,-143.5 1796.44,-147 1806.44,-150.5 1806.44,-143.5\"/>\n<text text-anchor=\"middle\" x=\"1900.2\" y=\"-150.8\" font-family=\"Times,serif\" font-size=\"14.00\">('move_to_kitchen', 1)</text>\n</g>\n<!-- (&#39;air_off&#39;, &#39;bathroom&#39;)&#45;&gt;(&#39;air_hot&#39;, &#39;bathroom&#39;) -->\n<g id=\"edge3\" class=\"edge\">\n<title>('air_off', 'bathroom')-&gt;('air_hot', 'bathroom')</title>\n<path fill=\"none\" stroke=\"black\" d=\"M319.72,-176C362.47,-176 411.56,-176 455.19,-176\"/>\n<polygon fill=\"black\" stroke=\"black\" points=\"455.27,-179.5 465.27,-176 455.27,-172.5 455.27,-179.5\"/>\n<text text-anchor=\"middle\" x=\"392.28\" y=\"-179.8\" font-family=\"Times,serif\" font-size=\"14.00\">('hot_air_on', 0)</text>\n</g>\n<!-- (&#39;air_off&#39;, &#39;bathroom&#39;)&#45;&gt;(&#39;air_cold&#39;, &#39;bathroom&#39;) -->\n<g id=\"edge2\" class=\"edge\">\n<title>('air_off', 'bathroom')-&gt;('air_cold', 'bathroom')</title>\n<path fill=\"none\" stroke=\"black\" d=\"M269.07,-269.05C288.4,-293.78 311.58,-318.68 337.28,-337 428.08,-401.74 463.24,-418 574.77,-418 574.77,-418 574.77,-418 1693.86,-418 1829.21,-418 1956,-318.65 2034.97,-240.26\"/>\n<polygon fill=\"black\" stroke=\"black\" points=\"2037.88,-242.3 2042.46,-232.75 2032.93,-237.36 2037.88,-242.3\"/>\n<text text-anchor=\"middle\" x=\"1169.14\" y=\"-421.8\" font-family=\"Times,serif\" font-size=\"14.00\">('cold_air_on', 0)</text>\n</g>\n<!-- (&#39;air_off&#39;, &#39;bathroom&#39;)&#45;&gt;(&#39;air_off&#39;, &#39;bathroom&#39;) -->\n<g id=\"edge4\" class=\"edge\">\n<title>('air_off', 'bathroom')-&gt;('air_off', 'bathroom')</title>\n<path fill=\"none\" stroke=\"black\" d=\"M188.5,-284.82C192.33,-296.83 199.06,-304.59 208.69,-304.59 215.45,-304.59 220.79,-300.76 224.69,-294.3\"/>\n<polygon fill=\"black\" stroke=\"black\" points=\"228.04,-295.38 228.88,-284.82 221.64,-292.56 228.04,-295.38\"/>\n<text text-anchor=\"middle\" x=\"208.69\" y=\"-308.39\" font-family=\"Times,serif\" font-size=\"14.00\">('move_to_bathroom', 1)</text>\n</g>\n<!-- (&#39;air_off&#39;, &#39;kitchen&#39;) -->\n<g id=\"node7\" class=\"node\">\n<title>('air_off', 'kitchen')</title>\n<ellipse fill=\"none\" stroke=\"black\" cx=\"1341.33\" cy=\"-170\" rx=\"96.38\" ry=\"96.38\"/>\n<text text-anchor=\"middle\" x=\"1341.33\" y=\"-166.3\" font-family=\"Times,serif\" font-size=\"14.00\">('air_off', 'kitchen')</text>\n</g>\n<!-- (&#39;air_off&#39;, &#39;bathroom&#39;)&#45;&gt;(&#39;air_off&#39;, &#39;kitchen&#39;) -->\n<g id=\"edge5\" class=\"edge\">\n<title>('air_off', 'bathroom')-&gt;('air_off', 'kitchen')</title>\n<path fill=\"none\" stroke=\"black\" d=\"M288.29,-253.01C335.42,-293.68 398.96,-339.52 465.28,-361 544.88,-386.79 1004.53,-380.17 1093.14,-350 1157.27,-328.16 1218.89,-283.36 1264.57,-243.93\"/>\n<polygon fill=\"black\" stroke=\"black\" points=\"1267.1,-246.36 1272.33,-237.14 1262.5,-241.09 1267.1,-246.36\"/>\n<text text-anchor=\"middle\" x=\"790.26\" y=\"-380.8\" font-family=\"Times,serif\" font-size=\"14.00\">('move_to_kitchen', 1)</text>\n</g>\n<!-- (&#39;air_hot&#39;, &#39;kitchen&#39;)&#45;&gt;(&#39;air_hot&#39;, &#39;bathroom&#39;) -->\n<g id=\"edge24\" class=\"edge\">\n<title>('air_hot', 'kitchen')-&gt;('air_hot', 'bathroom')</title>\n<path fill=\"none\" stroke=\"black\" d=\"M895.27,-161.62C888.85,-160.98 882.47,-160.42 876.26,-160 799.99,-154.78 780.55,-155.23 704.26,-160 701.39,-160.18 698.48,-160.38 695.55,-160.6\"/>\n<polygon fill=\"black\" stroke=\"black\" points=\"695.2,-157.12 685.53,-161.43 695.78,-164.1 695.2,-157.12\"/>\n<text text-anchor=\"middle\" x=\"790.26\" y=\"-163.8\" font-family=\"Times,serif\" font-size=\"14.00\">('move_to_bathroom', 1)</text>\n</g>\n<!-- (&#39;air_hot&#39;, &#39;kitchen&#39;)&#45;&gt;(&#39;air_hot&#39;, &#39;kitchen&#39;) -->\n<g id=\"edge22\" class=\"edge\">\n<title>('air_hot', 'kitchen')-&gt;('air_hot', 'kitchen')</title>\n<path fill=\"none\" stroke=\"black\" d=\"M979.78,-274.52C982.34,-285.99 986.99,-293.44 993.7,-293.44 998.21,-293.44 1001.78,-290.08 1004.42,-284.39\"/>\n<polygon fill=\"black\" stroke=\"black\" points=\"1007.86,-285.12 1007.62,-274.52 1001.21,-282.96 1007.86,-285.12\"/>\n<text text-anchor=\"middle\" x=\"993.7\" y=\"-297.24\" font-family=\"Times,serif\" font-size=\"14.00\">('hot_air_on', 0)</text>\n</g>\n<!-- (&#39;air_hot&#39;, &#39;kitchen&#39;)&#45;&gt;(&#39;air_hot&#39;, &#39;kitchen&#39;) -->\n<g id=\"edge25\" class=\"edge\">\n<title>('air_hot', 'kitchen')-&gt;('air_hot', 'kitchen')</title>\n<path fill=\"none\" stroke=\"black\" d=\"M961.52,-270.31C963.77,-293.85 974.5,-311.44 993.7,-311.44 1010.05,-311.44 1020.25,-298.68 1024.31,-280.36\"/>\n<polygon fill=\"black\" stroke=\"black\" points=\"1027.8,-280.73 1025.87,-270.31 1020.88,-279.65 1027.8,-280.73\"/>\n<text text-anchor=\"middle\" x=\"993.7\" y=\"-315.24\" font-family=\"Times,serif\" font-size=\"14.00\">('move_to_kitchen', 1)</text>\n</g>\n<!-- (&#39;air_hot&#39;, &#39;kitchen&#39;)&#45;&gt;(&#39;air_off&#39;, &#39;kitchen&#39;) -->\n<g id=\"edge23\" class=\"edge\">\n<title>('air_hot', 'kitchen')-&gt;('air_off', 'kitchen')</title>\n<path fill=\"none\" stroke=\"black\" d=\"M1093.39,-177.15C1134.72,-177.34 1183.27,-177.16 1227.14,-176 1229.72,-175.93 1232.34,-175.85 1234.97,-175.77\"/>\n<polygon fill=\"black\" stroke=\"black\" points=\"1235.37,-179.26 1245.24,-175.41 1235.12,-172.26 1235.37,-179.26\"/>\n<text text-anchor=\"middle\" x=\"1169.14\" y=\"-180.8\" font-family=\"Times,serif\" font-size=\"14.00\">('air_off', 0)</text>\n</g>\n<!-- (&#39;air_cold&#39;, &#39;kitchen&#39;)&#45;&gt;(&#39;air_cold&#39;, &#39;bathroom&#39;) -->\n<g id=\"edge20\" class=\"edge\">\n<title>('air_cold', 'kitchen')-&gt;('air_cold', 'bathroom')</title>\n<path fill=\"none\" stroke=\"black\" d=\"M1794.84,-129.88C1801.38,-129.14 1807.88,-128.5 1814.2,-128 1890.41,-122.02 1909.96,-122.52 1986.2,-128 1989.11,-128.21 1992.06,-128.44 1995.02,-128.7\"/>\n<polygon fill=\"black\" stroke=\"black\" points=\"1994.89,-132.21 2005.18,-129.66 1995.55,-125.24 1994.89,-132.21\"/>\n<text text-anchor=\"middle\" x=\"1900.2\" y=\"-131.8\" font-family=\"Times,serif\" font-size=\"14.00\">('move_to_bathroom', 1)</text>\n</g>\n<!-- (&#39;air_cold&#39;, &#39;kitchen&#39;)&#45;&gt;(&#39;air_cold&#39;, &#39;kitchen&#39;) -->\n<g id=\"edge18\" class=\"edge\">\n<title>('air_cold', 'kitchen')-&gt;('air_cold', 'kitchen')</title>\n<path fill=\"none\" stroke=\"black\" d=\"M1678.82,-249.69C1681.49,-261.02 1686.17,-268.34 1692.86,-268.34 1697.36,-268.34 1700.95,-265.04 1703.63,-259.43\"/>\n<polygon fill=\"black\" stroke=\"black\" points=\"1707.03,-260.28 1706.9,-249.69 1700.4,-258.05 1707.03,-260.28\"/>\n<text text-anchor=\"middle\" x=\"1692.86\" y=\"-272.14\" font-family=\"Times,serif\" font-size=\"14.00\">('cold_air_on', 0)</text>\n</g>\n<!-- (&#39;air_cold&#39;, &#39;kitchen&#39;)&#45;&gt;(&#39;air_cold&#39;, &#39;kitchen&#39;) -->\n<g id=\"edge21\" class=\"edge\">\n<title>('air_cold', 'kitchen')-&gt;('air_cold', 'kitchen')</title>\n<path fill=\"none\" stroke=\"black\" d=\"M1660.08,-245.31C1662.64,-268.88 1673.57,-286.34 1692.86,-286.34 1709.29,-286.34 1719.66,-273.68 1723.95,-255.36\"/>\n<polygon fill=\"black\" stroke=\"black\" points=\"1727.44,-255.75 1725.65,-245.31 1720.54,-254.59 1727.44,-255.75\"/>\n<text text-anchor=\"middle\" x=\"1692.86\" y=\"-290.14\" font-family=\"Times,serif\" font-size=\"14.00\">('move_to_kitchen', 1)</text>\n</g>\n<!-- (&#39;air_cold&#39;, &#39;kitchen&#39;)&#45;&gt;(&#39;air_off&#39;, &#39;kitchen&#39;) -->\n<g id=\"edge19\" class=\"edge\">\n<title>('air_cold', 'kitchen')-&gt;('air_off', 'kitchen')</title>\n<path fill=\"none\" stroke=\"black\" d=\"M1589.48,-153.74C1544.8,-156.68 1492.44,-160.12 1447.45,-163.08\"/>\n<polygon fill=\"black\" stroke=\"black\" points=\"1447.13,-159.6 1437.38,-163.75 1447.59,-166.58 1447.13,-159.6\"/>\n<text text-anchor=\"middle\" x=\"1513.52\" y=\"-164.8\" font-family=\"Times,serif\" font-size=\"14.00\">('air_off', 0)</text>\n</g>\n<!-- (&#39;air_off&#39;, &#39;kitchen&#39;)&#45;&gt;(&#39;air_off&#39;, &#39;bathroom&#39;) -->\n<g id=\"edge16\" class=\"edge\">\n<title>('air_off', 'kitchen')-&gt;('air_off', 'bathroom')</title>\n<path fill=\"none\" stroke=\"black\" d=\"M1255.58,-126.01C1208.97,-104.16 1149.34,-79.93 1093.14,-68 1013,-50.99 549.48,-38.36 465.28,-57 412.74,-68.63 358.2,-92.21 313.06,-115.34\"/>\n<polygon fill=\"black\" stroke=\"black\" points=\"311.43,-112.24 304.16,-119.95 314.65,-118.46 311.43,-112.24\"/>\n<text text-anchor=\"middle\" x=\"790.26\" y=\"-55.8\" font-family=\"Times,serif\" font-size=\"14.00\">('move_to_bathroom', 1)</text>\n</g>\n<!-- (&#39;air_off&#39;, &#39;kitchen&#39;)&#45;&gt;(&#39;air_hot&#39;, &#39;kitchen&#39;) -->\n<g id=\"edge15\" class=\"edge\">\n<title>('air_off', 'kitchen')-&gt;('air_hot', 'kitchen')</title>\n<path fill=\"none\" stroke=\"black\" d=\"M1245.25,-161.89C1239.13,-161.54 1233.05,-161.23 1227.14,-161 1175.62,-158.96 1162.59,-157.7 1111.14,-161 1108.28,-161.18 1105.38,-161.39 1102.46,-161.62\"/>\n<polygon fill=\"black\" stroke=\"black\" points=\"1102.11,-158.14 1092.45,-162.48 1102.71,-165.11 1102.11,-158.14\"/>\n<text text-anchor=\"middle\" x=\"1169.14\" y=\"-164.8\" font-family=\"Times,serif\" font-size=\"14.00\">('hot_air_on', 0)</text>\n</g>\n<!-- (&#39;air_off&#39;, &#39;kitchen&#39;)&#45;&gt;(&#39;air_cold&#39;, &#39;kitchen&#39;) -->\n<g id=\"edge14\" class=\"edge\">\n<title>('air_off', 'kitchen')-&gt;('air_cold', 'kitchen')</title>\n<path fill=\"none\" stroke=\"black\" d=\"M1433.61,-141.89C1440.97,-140.33 1448.34,-139 1455.52,-138 1495.84,-132.41 1540.36,-132.5 1579.8,-134.71\"/>\n<polygon fill=\"black\" stroke=\"black\" points=\"1579.78,-138.21 1589.97,-135.33 1580.21,-131.22 1579.78,-138.21\"/>\n<text text-anchor=\"middle\" x=\"1513.52\" y=\"-141.8\" font-family=\"Times,serif\" font-size=\"14.00\">('cold_air_on', 0)</text>\n</g>\n<!-- (&#39;air_off&#39;, &#39;kitchen&#39;)&#45;&gt;(&#39;air_off&#39;, &#39;kitchen&#39;) -->\n<g id=\"edge17\" class=\"edge\">\n<title>('air_off', 'kitchen')-&gt;('air_off', 'kitchen')</title>\n<path fill=\"none\" stroke=\"black\" d=\"M1312.23,-261.84C1316.85,-275.2 1326.55,-284.19 1341.33,-284.19 1352.42,-284.19 1360.64,-279.13 1366.01,-270.97\"/>\n<polygon fill=\"black\" stroke=\"black\" points=\"1369.22,-272.37 1370.43,-261.84 1362.92,-269.32 1369.22,-272.37\"/>\n<text text-anchor=\"middle\" x=\"1341.33\" y=\"-287.99\" font-family=\"Times,serif\" font-size=\"14.00\">('move_to_kitchen', 1)</text>\n</g>\n</g>\n</svg></div>"
     },
     "metadata": {},
     "output_type": "display_data"
    }
   ],
   "source": [
    "def bathroom_heating_device() -> Service:\n",
    "    \"\"\"Build the bathroom heating device.\"\"\"\n",
    "    transitions = {\n",
    "        \"air_cold\": {\n",
    "            \"cold_air_on\": \"air_cold\",\n",
    "            \"air_off\": \"air_off\",\n",
    "        },\n",
    "        \"air_off\": {\n",
    "            \"cold_air_on\": \"air_cold\",\n",
    "            \"hot_air_on\": \"air_hot\",\n",
    "        },\n",
    "        \"air_hot\": {\"hot_air_on\": \"air_hot\", \"air_off\": \"air_off\"},\n",
    "    }\n",
    "    final_states = {\"air_off\"}\n",
    "    initial_state = \"air_off\"\n",
    "    return build_service_from_transitions(transitions, initial_state, final_states)  # type: ignore\n",
    "\n",
    "\n",
    "def user_behaviour() -> Service:\n",
    "    \"\"\"It is the user behaviour service.\"\"\"\n",
    "    transitions = {\n",
    "        \"bathroom\": {\n",
    "            \"move_to_bathroom\": \"bathroom\",\n",
    "            \"move_to_kitchen\": \"kitchen\",\n",
    "        },\n",
    "        \"kitchen\": {\n",
    "            \"move_to_bathroom\": \"bathroom\",\n",
    "            \"move_to_kitchen\": \"kitchen\",\n",
    "        },\n",
    "    }\n",
    "    initial_state = \"bathroom\"\n",
    "    final_states = {\"bathroom\"}\n",
    "    return build_service_from_transitions(transitions, initial_state, final_states)  # type: ignore\n",
    "\n",
    "\n",
    "bathroom_heating_service = bathroom_heating_device()\n",
    "user_behaviour = user_behaviour()\n",
    "\n",
    "all_services = [\n",
    "    bathroom_heating_service,\n",
    "    user_behaviour\n",
    "]\n",
    "system_service = build_system_service(*all_services)\n",
    "\n",
    "\n",
    "render_service(system_service, style=\"\")"
   ]
  },
  {
   "cell_type": "markdown",
   "metadata": {
    "pycharm": {
     "name": "#%% md\n"
    }
   },
   "source": [
    "## Compute the composition MDP"
   ]
  },
  {
   "cell_type": "code",
   "execution_count": 4,
   "metadata": {
    "pycharm": {
     "name": "#%%\n"
    }
   },
   "outputs": [
    {
     "data": {
      "text/plain": "<IPython.core.display.HTML object>",
      "text/html": "<div style=\"white-space: nowrap\"><svg xmlns=\"http://www.w3.org/2000/svg\" xmlns:xlink=\"http://www.w3.org/1999/xlink\" width=\"1727pt\" height=\"1184pt\" viewBox=\"0.00 0.00 1727.08 1184.16\">\n<g id=\"graph0\" class=\"graph\" transform=\"scale(1 1) rotate(0) translate(4 1180.16)\">\n<title>%3</title>\n<polygon fill=\"white\" stroke=\"transparent\" points=\"-4,4 -4,-1180.16 1723.08,-1180.16 1723.08,4 -4,4\"/>\n<!-- fake -->\n<g id=\"node1\" class=\"node\">\n<title>fake</title>\n</g>\n<!-- 0 -->\n<g id=\"node2\" class=\"node\">\n<title>0</title>\n<ellipse fill=\"none\" stroke=\"black\" cx=\"116.09\" cy=\"-568.16\" rx=\"18\" ry=\"18\"/>\n<text text-anchor=\"middle\" x=\"116.09\" y=\"-564.46\" font-family=\"Times,serif\" font-size=\"14.00\">0</text>\n</g>\n<!-- fake&#45;&gt;0 -->\n<g id=\"edge1\" class=\"edge\">\n<title>fake-&gt;0</title>\n<path fill=\"none\" stroke=\"black\" stroke-width=\"2\" d=\"M61.24,-568.16C69.81,-568.16 79.13,-568.16 87.57,-568.16\"/>\n<polygon fill=\"black\" stroke=\"black\" stroke-width=\"2\" points=\"87.66,-571.66 97.66,-568.16 87.66,-564.66 87.66,-571.66\"/>\n</g>\n<!-- ((&#39;air_off&#39;, &#39;bathroom&#39;), &#39;t0&#39;, &#39;hot_air_on&#39;) -->\n<g id=\"node7\" class=\"node\">\n<title>(('air_off', 'bathroom'), 't0', 'hot_air_on')</title>\n<ellipse fill=\"none\" stroke=\"black\" cx=\"459.72\" cy=\"-784.16\" rx=\"192.27\" ry=\"192.27\"/>\n<text text-anchor=\"middle\" x=\"459.72\" y=\"-780.46\" font-family=\"Times,serif\" font-size=\"14.00\">(('air_off', 'bathroom'), 't0', 'hot_air_on')</text>\n</g>\n<!-- 0&#45;&gt;((&#39;air_off&#39;, &#39;bathroom&#39;), &#39;t0&#39;, &#39;hot_air_on&#39;) -->\n<g id=\"edge2\" class=\"edge\">\n<title>0-&gt;(('air_off', 'bathroom'), 't0', 'hot_air_on')</title>\n<path fill=\"none\" stroke=\"black\" d=\"M131.77,-577.44C159.83,-595.18 223.98,-635.74 288.09,-676.28\"/>\n<polygon fill=\"black\" stroke=\"black\" points=\"286.4,-679.35 296.73,-681.73 290.14,-673.43 286.4,-679.35\"/>\n<text text-anchor=\"middle\" x=\"186.09\" y=\"-634.96\" font-family=\"Times,serif\" font-size=\"14.00\">-1,0.0,0.6</text>\n</g>\n<!-- ((&#39;air_off&#39;, &#39;bathroom&#39;), &#39;t0&#39;, &#39;move_to_kitchen&#39;) -->\n<g id=\"node8\" class=\"node\">\n<title>(('air_off', 'bathroom'), 't0', 'move_to_kitchen')</title>\n<ellipse fill=\"none\" stroke=\"black\" cx=\"459.72\" cy=\"-352.16\" rx=\"221.76\" ry=\"221.76\"/>\n<text text-anchor=\"middle\" x=\"459.72\" y=\"-348.46\" font-family=\"Times,serif\" font-size=\"14.00\">(('air_off', 'bathroom'), 't0', 'move_to_kitchen')</text>\n</g>\n<!-- 0&#45;&gt;((&#39;air_off&#39;, &#39;bathroom&#39;), &#39;t0&#39;, &#39;move_to_kitchen&#39;) -->\n<g id=\"edge3\" class=\"edge\">\n<title>0-&gt;(('air_off', 'bathroom'), 't0', 'move_to_kitchen')</title>\n<path fill=\"none\" stroke=\"black\" d=\"M131.77,-558.88C156.19,-543.44 207.96,-510.71 263.25,-475.75\"/>\n<polygon fill=\"black\" stroke=\"black\" points=\"265.21,-478.65 271.79,-470.35 261.47,-472.74 265.21,-478.65\"/>\n<text text-anchor=\"middle\" x=\"186.09\" y=\"-548.96\" font-family=\"Times,serif\" font-size=\"14.00\">-1,0.0,0.4</text>\n</g>\n<!-- ((&#39;air_hot&#39;, &#39;bathroom&#39;), &#39;t1&#39;, &#39;hot_air_on&#39;) -->\n<g id=\"node3\" class=\"node\">\n<title>(('air_hot', 'bathroom'), 't1', 'hot_air_on')</title>\n<ellipse fill=\"none\" stroke=\"black\" cx=\"988.99\" cy=\"-870.16\" rx=\"196.07\" ry=\"196.07\"/>\n<text text-anchor=\"middle\" x=\"988.99\" y=\"-866.46\" font-family=\"Times,serif\" font-size=\"14.00\">(('air_hot', 'bathroom'), 't1', 'hot_air_on')</text>\n</g>\n<!-- ((&#39;air_hot&#39;, &#39;bathroom&#39;), &#39;t1&#39;, &#39;hot_air_on&#39;)&#45;&gt;((&#39;air_hot&#39;, &#39;bathroom&#39;), &#39;t1&#39;, &#39;hot_air_on&#39;) -->\n<g id=\"edge15\" class=\"edge\">\n<title>(('air_hot', 'bathroom'), 't1', 'hot_air_on')-&gt;(('air_hot', 'bathroom'), 't1', 'hot_air_on')</title>\n<path fill=\"none\" stroke=\"black\" d=\"M953.25,-1063.34C961.48,-1076.46 973.39,-1084.44 988.99,-1084.44 1000.93,-1084.44 1010.71,-1079.77 1018.33,-1071.68\"/>\n<polygon fill=\"black\" stroke=\"black\" points=\"1021.42,-1073.4 1024.72,-1063.34 1015.86,-1069.15 1021.42,-1073.4\"/>\n<text text-anchor=\"middle\" x=\"988.99\" y=\"-1088.24\" font-family=\"Times,serif\" font-size=\"14.00\">0,2,0.5</text>\n</g>\n<!-- ((&#39;air_hot&#39;, &#39;bathroom&#39;), &#39;t1&#39;, &#39;hot_air_off&#39;) -->\n<g id=\"node6\" class=\"node\">\n<title>(('air_hot', 'bathroom'), 't1', 'hot_air_off')</title>\n<ellipse fill=\"none\" stroke=\"black\" cx=\"1507.85\" cy=\"-870.16\" rx=\"196.07\" ry=\"196.07\"/>\n<text text-anchor=\"middle\" x=\"1507.85\" y=\"-866.46\" font-family=\"Times,serif\" font-size=\"14.00\">(('air_hot', 'bathroom'), 't1', 'hot_air_off')</text>\n</g>\n<!-- ((&#39;air_hot&#39;, &#39;bathroom&#39;), &#39;t1&#39;, &#39;hot_air_on&#39;)&#45;&gt;((&#39;air_hot&#39;, &#39;bathroom&#39;), &#39;t1&#39;, &#39;hot_air_off&#39;) -->\n<g id=\"edge14\" class=\"edge\">\n<title>(('air_hot', 'bathroom'), 't1', 'hot_air_on')-&gt;(('air_hot', 'bathroom'), 't1', 'hot_air_off')</title>\n<path fill=\"none\" stroke=\"black\" d=\"M1184.76,-851.64C1216.13,-850.29 1248.26,-849.9 1278.62,-851.16 1286.3,-851.48 1294.12,-851.86 1302.02,-852.29\"/>\n<polygon fill=\"black\" stroke=\"black\" points=\"1301.88,-855.78 1312.06,-852.86 1302.28,-848.8 1301.88,-855.78\"/>\n<text text-anchor=\"middle\" x=\"1253.62\" y=\"-854.96\" font-family=\"Times,serif\" font-size=\"14.00\">0,2,0.5</text>\n</g>\n<!-- ((&#39;air_off&#39;, &#39;kitchen&#39;), &#39;t2&#39;, &#39;move_to_bathroom&#39;) -->\n<g id=\"node4\" class=\"node\">\n<title>(('air_off', 'kitchen'), 't2', 'move_to_bathroom')</title>\n<ellipse fill=\"none\" stroke=\"black\" cx=\"988.99\" cy=\"-299.16\" rx=\"221.76\" ry=\"221.76\"/>\n<text text-anchor=\"middle\" x=\"988.99\" y=\"-295.46\" font-family=\"Times,serif\" font-size=\"14.00\">(('air_off', 'kitchen'), 't2', 'move_to_bathroom')</text>\n</g>\n<!-- ((&#39;air_off&#39;, &#39;kitchen&#39;), &#39;t2&#39;, &#39;move_to_bathroom&#39;)&#45;&gt;((&#39;air_off&#39;, &#39;kitchen&#39;), &#39;t2&#39;, &#39;move_to_bathroom&#39;) -->\n<g id=\"edge16\" class=\"edge\">\n<title>(('air_off', 'kitchen'), 't2', 'move_to_bathroom')-&gt;(('air_off', 'kitchen'), 't2', 'move_to_bathroom')</title>\n<path fill=\"none\" stroke=\"black\" d=\"M955.15,-518.37C963.27,-531.15 974.55,-538.79 988.99,-538.79 1000.04,-538.79 1009.24,-534.31 1016.59,-526.47\"/>\n<polygon fill=\"black\" stroke=\"black\" points=\"1019.51,-528.43 1022.82,-518.37 1013.95,-524.16 1019.51,-528.43\"/>\n<text text-anchor=\"middle\" x=\"988.99\" y=\"-542.59\" font-family=\"Times,serif\" font-size=\"14.00\">1,3,0.7</text>\n</g>\n<!-- ((&#39;air_off&#39;, &#39;kitchen&#39;), &#39;t2&#39;, &#39;move_to_kitchen&#39;) -->\n<g id=\"node5\" class=\"node\">\n<title>(('air_off', 'kitchen'), 't2', 'move_to_kitchen')</title>\n<ellipse fill=\"none\" stroke=\"black\" cx=\"1507.85\" cy=\"-299.16\" rx=\"211.46\" ry=\"211.46\"/>\n<text text-anchor=\"middle\" x=\"1507.85\" y=\"-295.46\" font-family=\"Times,serif\" font-size=\"14.00\">(('air_off', 'kitchen'), 't2', 'move_to_kitchen')</text>\n</g>\n<!-- ((&#39;air_off&#39;, &#39;kitchen&#39;), &#39;t2&#39;, &#39;move_to_bathroom&#39;)&#45;&gt;((&#39;air_off&#39;, &#39;kitchen&#39;), &#39;t2&#39;, &#39;move_to_kitchen&#39;) -->\n<g id=\"edge17\" class=\"edge\">\n<title>(('air_off', 'kitchen'), 't2', 'move_to_bathroom')-&gt;(('air_off', 'kitchen'), 't2', 'move_to_kitchen')</title>\n<path fill=\"none\" stroke=\"black\" d=\"M1210.68,-299.16C1235.64,-299.16 1261.08,-299.16 1286.04,-299.16\"/>\n<polygon fill=\"black\" stroke=\"black\" points=\"1286.33,-302.66 1296.33,-299.16 1286.33,-295.66 1286.33,-302.66\"/>\n<text text-anchor=\"middle\" x=\"1253.62\" y=\"-302.96\" font-family=\"Times,serif\" font-size=\"14.00\">1,3,0.3</text>\n</g>\n<!-- ((&#39;air_off&#39;, &#39;kitchen&#39;), &#39;t2&#39;, &#39;move_to_kitchen&#39;)&#45;&gt;((&#39;air_off&#39;, &#39;kitchen&#39;), &#39;t2&#39;, &#39;move_to_bathroom&#39;) -->\n<g id=\"edge18\" class=\"edge\">\n<title>(('air_off', 'kitchen'), 't2', 'move_to_kitchen')-&gt;(('air_off', 'kitchen'), 't2', 'move_to_bathroom')</title>\n<path fill=\"none\" stroke=\"black\" d=\"M1297.33,-281.04C1291.02,-280.71 1284.77,-280.42 1278.62,-280.16 1259.62,-279.37 1239.94,-279.23 1220.17,-279.56\"/>\n<polygon fill=\"black\" stroke=\"black\" points=\"1220.08,-276.07 1210.16,-279.77 1220.23,-283.06 1220.08,-276.07\"/>\n<text text-anchor=\"middle\" x=\"1253.62\" y=\"-283.96\" font-family=\"Times,serif\" font-size=\"14.00\">1,3,0.7</text>\n</g>\n<!-- ((&#39;air_off&#39;, &#39;kitchen&#39;), &#39;t2&#39;, &#39;move_to_kitchen&#39;)&#45;&gt;((&#39;air_off&#39;, &#39;kitchen&#39;), &#39;t2&#39;, &#39;move_to_kitchen&#39;) -->\n<g id=\"edge19\" class=\"edge\">\n<title>(('air_off', 'kitchen'), 't2', 'move_to_kitchen')-&gt;(('air_off', 'kitchen'), 't2', 'move_to_kitchen')</title>\n<path fill=\"none\" stroke=\"black\" d=\"M1474.67,-507.86C1482.53,-520.68 1493.58,-528.39 1507.85,-528.39 1518.77,-528.39 1527.81,-523.87 1534.97,-516\"/>\n<polygon fill=\"black\" stroke=\"black\" points=\"1537.87,-517.97 1541.02,-507.86 1532.25,-513.8 1537.87,-517.97\"/>\n<text text-anchor=\"middle\" x=\"1507.85\" y=\"-532.19\" font-family=\"Times,serif\" font-size=\"14.00\">1,3,0.3</text>\n</g>\n<!-- ((&#39;air_hot&#39;, &#39;bathroom&#39;), &#39;t1&#39;, &#39;hot_air_off&#39;)&#45;&gt;((&#39;air_hot&#39;, &#39;bathroom&#39;), &#39;t1&#39;, &#39;hot_air_on&#39;) -->\n<g id=\"edge13\" class=\"edge\">\n<title>(('air_hot', 'bathroom'), 't1', 'hot_air_off')-&gt;(('air_hot', 'bathroom'), 't1', 'hot_air_on')</title>\n<path fill=\"none\" stroke=\"black\" d=\"M1311.17,-870.16C1273.37,-870.16 1233.67,-870.16 1195.56,-870.16\"/>\n<polygon fill=\"black\" stroke=\"black\" points=\"1195.39,-866.66 1185.39,-870.16 1195.39,-873.66 1195.39,-866.66\"/>\n<text text-anchor=\"middle\" x=\"1253.62\" y=\"-873.96\" font-family=\"Times,serif\" font-size=\"14.00\">0,2,0.5</text>\n</g>\n<!-- ((&#39;air_hot&#39;, &#39;bathroom&#39;), &#39;t1&#39;, &#39;hot_air_off&#39;)&#45;&gt;((&#39;air_hot&#39;, &#39;bathroom&#39;), &#39;t1&#39;, &#39;hot_air_off&#39;) -->\n<g id=\"edge12\" class=\"edge\">\n<title>(('air_hot', 'bathroom'), 't1', 'hot_air_off')-&gt;(('air_hot', 'bathroom'), 't1', 'hot_air_off')</title>\n<path fill=\"none\" stroke=\"black\" d=\"M1473.66,-1063.66C1481.57,-1076.6 1492.96,-1084.44 1507.85,-1084.44 1519.24,-1084.44 1528.59,-1079.84 1535.9,-1071.88\"/>\n<polygon fill=\"black\" stroke=\"black\" points=\"1538.86,-1073.77 1542.03,-1063.66 1533.25,-1069.58 1538.86,-1073.77\"/>\n<text text-anchor=\"middle\" x=\"1507.85\" y=\"-1088.24\" font-family=\"Times,serif\" font-size=\"14.00\">0,2,0.5</text>\n</g>\n<!-- ((&#39;air_off&#39;, &#39;bathroom&#39;), &#39;t0&#39;, &#39;hot_air_on&#39;)&#45;&gt;((&#39;air_hot&#39;, &#39;bathroom&#39;), &#39;t1&#39;, &#39;hot_air_on&#39;) -->\n<g id=\"edge5\" class=\"edge\">\n<title>(('air_off', 'bathroom'), 't0', 'hot_air_on')-&gt;(('air_hot', 'bathroom'), 't1', 'hot_air_on')</title>\n<path fill=\"none\" stroke=\"black\" d=\"M649.96,-815.03C693.76,-822.17 740.54,-829.8 784.9,-837.04\"/>\n<polygon fill=\"black\" stroke=\"black\" points=\"784.49,-840.52 794.93,-838.67 785.62,-833.61 784.49,-840.52\"/>\n<text text-anchor=\"middle\" x=\"724.36\" y=\"-832.96\" font-family=\"Times,serif\" font-size=\"14.00\">0,5,0.5</text>\n</g>\n<!-- ((&#39;air_off&#39;, &#39;bathroom&#39;), &#39;t0&#39;, &#39;hot_air_on&#39;)&#45;&gt;((&#39;air_off&#39;, &#39;kitchen&#39;), &#39;t2&#39;, &#39;move_to_bathroom&#39;) -->\n<g id=\"edge6\" class=\"edge\">\n<title>(('air_off', 'bathroom'), 't0', 'hot_air_on')-&gt;(('air_off', 'kitchen'), 't2', 'move_to_bathroom')</title>\n<path fill=\"none\" stroke=\"black\" d=\"M602.71,-655.12C628.9,-631.23 655.98,-606.47 681.36,-583.16 725.9,-542.24 773.95,-497.86 818.49,-456.61\"/>\n<polygon fill=\"black\" stroke=\"black\" points=\"820.94,-459.11 825.9,-449.75 816.18,-453.97 820.94,-459.11\"/>\n<text text-anchor=\"middle\" x=\"724.36\" y=\"-563.96\" font-family=\"Times,serif\" font-size=\"14.00\">1,3,0.7</text>\n</g>\n<!-- ((&#39;air_off&#39;, &#39;bathroom&#39;), &#39;t0&#39;, &#39;hot_air_on&#39;)&#45;&gt;((&#39;air_off&#39;, &#39;kitchen&#39;), &#39;t2&#39;, &#39;move_to_kitchen&#39;) -->\n<g id=\"edge7\" class=\"edge\">\n<title>(('air_off', 'bathroom'), 't0', 'hot_air_on')-&gt;(('air_off', 'kitchen'), 't2', 'move_to_kitchen')</title>\n<path fill=\"none\" stroke=\"black\" d=\"M632.01,-697.85C675.23,-679.3 722.21,-661.79 767.36,-650.16 958.95,-600.81 1032.48,-695.25 1210.62,-609.16 1273.7,-578.67 1330.44,-528.7 1376.97,-477.69\"/>\n<polygon fill=\"black\" stroke=\"black\" points=\"1379.67,-479.93 1383.76,-470.16 1374.47,-475.24 1379.67,-479.93\"/>\n<text text-anchor=\"middle\" x=\"988.99\" y=\"-653.96\" font-family=\"Times,serif\" font-size=\"14.00\">1,3,0.3</text>\n</g>\n<!-- ((&#39;air_off&#39;, &#39;bathroom&#39;), &#39;t0&#39;, &#39;hot_air_on&#39;)&#45;&gt;((&#39;air_hot&#39;, &#39;bathroom&#39;), &#39;t1&#39;, &#39;hot_air_off&#39;) -->\n<g id=\"edge4\" class=\"edge\">\n<title>(('air_off', 'bathroom'), 't0', 'hot_air_on')-&gt;(('air_hot', 'bathroom'), 't1', 'hot_air_off')</title>\n<path fill=\"none\" stroke=\"black\" d=\"M567.36,-944.25C619.34,-1007.86 687.86,-1073.94 767.36,-1108.16 948.31,-1186.05 1024.78,-1173.56 1210.62,-1108.16 1265.77,-1088.75 1318.23,-1054.26 1363.27,-1017.45\"/>\n<polygon fill=\"black\" stroke=\"black\" points=\"1365.54,-1020.11 1371.01,-1011.04 1361.07,-1014.72 1365.54,-1020.11\"/>\n<text text-anchor=\"middle\" x=\"988.99\" y=\"-1164.96\" font-family=\"Times,serif\" font-size=\"14.00\">0,5,0.5</text>\n</g>\n<!-- ((&#39;air_off&#39;, &#39;bathroom&#39;), &#39;t0&#39;, &#39;move_to_kitchen&#39;)&#45;&gt;((&#39;air_hot&#39;, &#39;bathroom&#39;), &#39;t1&#39;, &#39;hot_air_on&#39;) -->\n<g id=\"edge9\" class=\"edge\">\n<title>(('air_off', 'bathroom'), 't0', 'move_to_kitchen')-&gt;(('air_hot', 'bathroom'), 't1', 'hot_air_on')</title>\n<path fill=\"none\" stroke=\"black\" d=\"M615.01,-510.72C642.92,-538.99 671.89,-568.06 699.36,-595.16 729.12,-624.52 737.1,-631.3 767.36,-660.16 790.42,-682.16 814.85,-705.43 838.72,-728.17\"/>\n<polygon fill=\"black\" stroke=\"black\" points=\"836.46,-730.85 846.11,-735.21 841.28,-725.78 836.46,-730.85\"/>\n<text text-anchor=\"middle\" x=\"724.36\" y=\"-645.96\" font-family=\"Times,serif\" font-size=\"14.00\">0,5,0.5</text>\n</g>\n<!-- ((&#39;air_off&#39;, &#39;bathroom&#39;), &#39;t0&#39;, &#39;move_to_kitchen&#39;)&#45;&gt;((&#39;air_off&#39;, &#39;kitchen&#39;), &#39;t2&#39;, &#39;move_to_bathroom&#39;) -->\n<g id=\"edge10\" class=\"edge\">\n<title>(('air_off', 'bathroom'), 't0', 'move_to_kitchen')-&gt;(('air_off', 'kitchen'), 't2', 'move_to_bathroom')</title>\n<path fill=\"none\" stroke=\"black\" d=\"M680.51,-330.07C706.08,-327.5 732.22,-324.87 757.92,-322.29\"/>\n<polygon fill=\"black\" stroke=\"black\" points=\"758.53,-325.74 768.13,-321.26 757.83,-318.78 758.53,-325.74\"/>\n<text text-anchor=\"middle\" x=\"724.36\" y=\"-331.96\" font-family=\"Times,serif\" font-size=\"14.00\">1,3,0.7</text>\n</g>\n<!-- ((&#39;air_off&#39;, &#39;bathroom&#39;), &#39;t0&#39;, &#39;move_to_kitchen&#39;)&#45;&gt;((&#39;air_off&#39;, &#39;kitchen&#39;), &#39;t2&#39;, &#39;move_to_kitchen&#39;) -->\n<g id=\"edge11\" class=\"edge\">\n<title>(('air_off', 'bathroom'), 't0', 'move_to_kitchen')-&gt;(('air_off', 'kitchen'), 't2', 'move_to_kitchen')</title>\n<path fill=\"none\" stroke=\"black\" d=\"M595.53,-176.53C643.77,-127.06 702.44,-79.57 767.36,-53.16 949.84,21.08 1025.32,13.75 1210.62,-53.16 1262.41,-71.86 1311.54,-104 1354.36,-138.99\"/>\n<polygon fill=\"black\" stroke=\"black\" points=\"1352.35,-141.87 1362.29,-145.55 1356.82,-136.48 1352.35,-141.87\"/>\n<text text-anchor=\"middle\" x=\"988.99\" y=\"-56.96\" font-family=\"Times,serif\" font-size=\"14.00\">1,3,0.3</text>\n</g>\n<!-- ((&#39;air_off&#39;, &#39;bathroom&#39;), &#39;t0&#39;, &#39;move_to_kitchen&#39;)&#45;&gt;((&#39;air_hot&#39;, &#39;bathroom&#39;), &#39;t1&#39;, &#39;hot_air_off&#39;) -->\n<g id=\"edge8\" class=\"edge\">\n<title>(('air_off', 'bathroom'), 't0', 'move_to_kitchen')-&gt;(('air_hot', 'bathroom'), 't1', 'hot_air_off')</title>\n<path fill=\"none\" stroke=\"black\" d=\"M609.37,-515.76C637.08,-537.66 667.43,-557.05 699.36,-570.16 804.53,-613.35 1105.81,-546.08 1210.62,-590.16 1273.28,-616.52 1330.63,-662.53 1377.83,-709.72\"/>\n<polygon fill=\"black\" stroke=\"black\" points=\"1375.5,-712.34 1385.02,-717 1380.48,-707.42 1375.5,-712.34\"/>\n<text text-anchor=\"middle\" x=\"988.99\" y=\"-593.96\" font-family=\"Times,serif\" font-size=\"14.00\">0,5,0.5</text>\n</g>\n</g>\n</svg></div>"
     },
     "metadata": {},
     "output_type": "display_data"
    }
   ],
   "source": [
    "mdp = composition_mdp(target_service, *all_services)\n",
    "\n",
    "render_composition_mdp(mdp, style=\"\")"
   ]
  },
  {
   "cell_type": "code",
   "execution_count": 5,
   "metadata": {
    "pycharm": {
     "name": "#%%\n"
    }
   },
   "outputs": [
    {
     "name": "stdout",
     "output_type": "stream",
     "text": [
      "0 -1 (('air_off', 'bathroom'), 't0', 'hot_air_on') 0.6\n",
      "0 -1 (('air_off', 'bathroom'), 't0', 'move_to_kitchen') 0.4\n",
      "(('air_off', 'bathroom'), 't0', 'hot_air_on') 0 (('air_hot', 'bathroom'), 't1', 'hot_air_off') 0.5\n",
      "(('air_off', 'bathroom'), 't0', 'hot_air_on') 0 (('air_hot', 'bathroom'), 't1', 'hot_air_on') 0.5\n",
      "(('air_off', 'bathroom'), 't0', 'hot_air_on') 1 (('air_off', 'kitchen'), 't2', 'move_to_bathroom') 0.7\n",
      "(('air_off', 'bathroom'), 't0', 'hot_air_on') 1 (('air_off', 'kitchen'), 't2', 'move_to_kitchen') 0.3\n",
      "(('air_off', 'bathroom'), 't0', 'move_to_kitchen') 0 (('air_hot', 'bathroom'), 't1', 'hot_air_off') 0.5\n",
      "(('air_off', 'bathroom'), 't0', 'move_to_kitchen') 0 (('air_hot', 'bathroom'), 't1', 'hot_air_on') 0.5\n",
      "(('air_off', 'bathroom'), 't0', 'move_to_kitchen') 1 (('air_off', 'kitchen'), 't2', 'move_to_bathroom') 0.7\n",
      "(('air_off', 'bathroom'), 't0', 'move_to_kitchen') 1 (('air_off', 'kitchen'), 't2', 'move_to_kitchen') 0.3\n",
      "(('air_hot', 'bathroom'), 't1', 'hot_air_off') 0 (('air_hot', 'bathroom'), 't1', 'hot_air_off') 0.5\n",
      "(('air_hot', 'bathroom'), 't1', 'hot_air_off') 0 (('air_hot', 'bathroom'), 't1', 'hot_air_on') 0.5\n",
      "(('air_hot', 'bathroom'), 't1', 'hot_air_on') 0 (('air_hot', 'bathroom'), 't1', 'hot_air_off') 0.5\n",
      "(('air_hot', 'bathroom'), 't1', 'hot_air_on') 0 (('air_hot', 'bathroom'), 't1', 'hot_air_on') 0.5\n",
      "(('air_off', 'kitchen'), 't2', 'move_to_bathroom') 1 (('air_off', 'kitchen'), 't2', 'move_to_bathroom') 0.7\n",
      "(('air_off', 'kitchen'), 't2', 'move_to_bathroom') 1 (('air_off', 'kitchen'), 't2', 'move_to_kitchen') 0.3\n",
      "(('air_off', 'kitchen'), 't2', 'move_to_kitchen') 1 (('air_off', 'kitchen'), 't2', 'move_to_bathroom') 0.7\n",
      "(('air_off', 'kitchen'), 't2', 'move_to_kitchen') 1 (('air_off', 'kitchen'), 't2', 'move_to_kitchen') 0.3\n"
     ]
    }
   ],
   "source": [
    "for state, transitions in mdp.transitions.items():\n",
    "    for action, next_states in transitions.items():\n",
    "        for next_state, prob in next_states.items():\n",
    "            print(state, action, next_state, prob)"
   ]
  },
  {
   "cell_type": "code",
   "execution_count": null,
   "metadata": {},
   "outputs": [],
   "source": []
  }
 ],
 "metadata": {
  "kernelspec": {
   "display_name": "Python 3",
   "language": "python",
   "name": "python3"
  },
  "language_info": {
   "codemirror_mode": {
    "name": "ipython",
    "version": 3
   },
   "file_extension": ".py",
   "mimetype": "text/x-python",
   "name": "python",
   "nbconvert_exporter": "python",
   "pygments_lexer": "ipython3",
   "version": "3.8.5"
  }
 },
 "nbformat": 4,
 "nbformat_minor": 1
}